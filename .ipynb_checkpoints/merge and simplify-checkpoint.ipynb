{
 "cells": [
  {
   "cell_type": "code",
   "execution_count": 1,
   "metadata": {
    "collapsed": false
   },
   "outputs": [],
   "source": [
    "import pandas as pd\n",
    "import matplotlib.pyplot as plt\n",
    "%matplotlib inline"
   ]
  },
  {
   "cell_type": "code",
   "execution_count": 2,
   "metadata": {
    "collapsed": false
   },
   "outputs": [],
   "source": [
    "games = pd.read_csv('master_data/odi_ballbyball.csv')\n",
    "info = pd.read_csv('master_data/odi_info.csv')"
   ]
  },
  {
   "cell_type": "code",
   "execution_count": 3,
   "metadata": {
    "collapsed": false
   },
   "outputs": [
    {
     "name": "stdout",
     "output_type": "stream",
     "text": [
      "Index([u'game_id', u'innings', u'batting_side', u'over_number',\n",
      "       u'ball_in_over', u'bowler', u'batsman', u'non_striker', u'batted_runs',\n",
      "       u'xb', u'xlb', u'xnb', u'xw', u'xpen', u'total_extras', u'total_runs',\n",
      "       u'non_boundary', u'wicket', u'kind', u'player_out', u'fielders'],\n",
      "      dtype='object')\n"
     ]
    },
    {
     "data": {
      "text/html": [
       "<div>\n",
       "<table border=\"1\" class=\"dataframe\">\n",
       "  <thead>\n",
       "    <tr style=\"text-align: right;\">\n",
       "      <th></th>\n",
       "      <th>game_id</th>\n",
       "      <th>innings</th>\n",
       "      <th>batting_side</th>\n",
       "      <th>over_number</th>\n",
       "      <th>ball_in_over</th>\n",
       "      <th>bowler</th>\n",
       "      <th>batsman</th>\n",
       "      <th>non_striker</th>\n",
       "      <th>batted_runs</th>\n",
       "      <th>xb</th>\n",
       "      <th>...</th>\n",
       "      <th>xnb</th>\n",
       "      <th>xw</th>\n",
       "      <th>xpen</th>\n",
       "      <th>total_extras</th>\n",
       "      <th>total_runs</th>\n",
       "      <th>non_boundary</th>\n",
       "      <th>wicket</th>\n",
       "      <th>kind</th>\n",
       "      <th>player_out</th>\n",
       "      <th>fielders</th>\n",
       "    </tr>\n",
       "  </thead>\n",
       "  <tbody>\n",
       "    <tr>\n",
       "      <th>0</th>\n",
       "      <td>656441</td>\n",
       "      <td>1st innings</td>\n",
       "      <td>England</td>\n",
       "      <td>0</td>\n",
       "      <td>1</td>\n",
       "      <td>SL Malinga</td>\n",
       "      <td>MM Ali</td>\n",
       "      <td>IR Bell</td>\n",
       "      <td>0</td>\n",
       "      <td>NaN</td>\n",
       "      <td>...</td>\n",
       "      <td>NaN</td>\n",
       "      <td>NaN</td>\n",
       "      <td>NaN</td>\n",
       "      <td>0</td>\n",
       "      <td>0</td>\n",
       "      <td>0</td>\n",
       "      <td>NaN</td>\n",
       "      <td>NaN</td>\n",
       "      <td>NaN</td>\n",
       "      <td>NaN</td>\n",
       "    </tr>\n",
       "    <tr>\n",
       "      <th>1</th>\n",
       "      <td>656441</td>\n",
       "      <td>1st innings</td>\n",
       "      <td>England</td>\n",
       "      <td>0</td>\n",
       "      <td>2</td>\n",
       "      <td>SL Malinga</td>\n",
       "      <td>MM Ali</td>\n",
       "      <td>IR Bell</td>\n",
       "      <td>0</td>\n",
       "      <td>NaN</td>\n",
       "      <td>...</td>\n",
       "      <td>NaN</td>\n",
       "      <td>NaN</td>\n",
       "      <td>NaN</td>\n",
       "      <td>0</td>\n",
       "      <td>0</td>\n",
       "      <td>0</td>\n",
       "      <td>NaN</td>\n",
       "      <td>NaN</td>\n",
       "      <td>NaN</td>\n",
       "      <td>NaN</td>\n",
       "    </tr>\n",
       "    <tr>\n",
       "      <th>2</th>\n",
       "      <td>656441</td>\n",
       "      <td>1st innings</td>\n",
       "      <td>England</td>\n",
       "      <td>0</td>\n",
       "      <td>3</td>\n",
       "      <td>SL Malinga</td>\n",
       "      <td>MM Ali</td>\n",
       "      <td>IR Bell</td>\n",
       "      <td>1</td>\n",
       "      <td>NaN</td>\n",
       "      <td>...</td>\n",
       "      <td>NaN</td>\n",
       "      <td>NaN</td>\n",
       "      <td>NaN</td>\n",
       "      <td>0</td>\n",
       "      <td>1</td>\n",
       "      <td>0</td>\n",
       "      <td>NaN</td>\n",
       "      <td>NaN</td>\n",
       "      <td>NaN</td>\n",
       "      <td>NaN</td>\n",
       "    </tr>\n",
       "    <tr>\n",
       "      <th>3</th>\n",
       "      <td>656441</td>\n",
       "      <td>1st innings</td>\n",
       "      <td>England</td>\n",
       "      <td>0</td>\n",
       "      <td>4</td>\n",
       "      <td>SL Malinga</td>\n",
       "      <td>IR Bell</td>\n",
       "      <td>MM Ali</td>\n",
       "      <td>0</td>\n",
       "      <td>NaN</td>\n",
       "      <td>...</td>\n",
       "      <td>NaN</td>\n",
       "      <td>NaN</td>\n",
       "      <td>NaN</td>\n",
       "      <td>0</td>\n",
       "      <td>0</td>\n",
       "      <td>0</td>\n",
       "      <td>NaN</td>\n",
       "      <td>NaN</td>\n",
       "      <td>NaN</td>\n",
       "      <td>NaN</td>\n",
       "    </tr>\n",
       "    <tr>\n",
       "      <th>4</th>\n",
       "      <td>656441</td>\n",
       "      <td>1st innings</td>\n",
       "      <td>England</td>\n",
       "      <td>0</td>\n",
       "      <td>5</td>\n",
       "      <td>SL Malinga</td>\n",
       "      <td>IR Bell</td>\n",
       "      <td>MM Ali</td>\n",
       "      <td>0</td>\n",
       "      <td>NaN</td>\n",
       "      <td>...</td>\n",
       "      <td>NaN</td>\n",
       "      <td>NaN</td>\n",
       "      <td>NaN</td>\n",
       "      <td>0</td>\n",
       "      <td>0</td>\n",
       "      <td>0</td>\n",
       "      <td>NaN</td>\n",
       "      <td>NaN</td>\n",
       "      <td>NaN</td>\n",
       "      <td>NaN</td>\n",
       "    </tr>\n",
       "  </tbody>\n",
       "</table>\n",
       "<p>5 rows × 21 columns</p>\n",
       "</div>"
      ],
      "text/plain": [
       "   game_id      innings batting_side  over_number  ball_in_over      bowler  \\\n",
       "0   656441  1st innings      England            0             1  SL Malinga   \n",
       "1   656441  1st innings      England            0             2  SL Malinga   \n",
       "2   656441  1st innings      England            0             3  SL Malinga   \n",
       "3   656441  1st innings      England            0             4  SL Malinga   \n",
       "4   656441  1st innings      England            0             5  SL Malinga   \n",
       "\n",
       "   batsman non_striker  batted_runs  xb   ...     xnb  xw  xpen  total_extras  \\\n",
       "0   MM Ali     IR Bell            0 NaN   ...     NaN NaN   NaN             0   \n",
       "1   MM Ali     IR Bell            0 NaN   ...     NaN NaN   NaN             0   \n",
       "2   MM Ali     IR Bell            1 NaN   ...     NaN NaN   NaN             0   \n",
       "3  IR Bell      MM Ali            0 NaN   ...     NaN NaN   NaN             0   \n",
       "4  IR Bell      MM Ali            0 NaN   ...     NaN NaN   NaN             0   \n",
       "\n",
       "   total_runs  non_boundary  wicket  kind player_out fielders  \n",
       "0           0             0     NaN   NaN        NaN      NaN  \n",
       "1           0             0     NaN   NaN        NaN      NaN  \n",
       "2           1             0     NaN   NaN        NaN      NaN  \n",
       "3           0             0     NaN   NaN        NaN      NaN  \n",
       "4           0             0     NaN   NaN        NaN      NaN  \n",
       "\n",
       "[5 rows x 21 columns]"
      ]
     },
     "execution_count": 3,
     "metadata": {},
     "output_type": "execute_result"
    }
   ],
   "source": [
    "print games.columns\n",
    "games.head()"
   ]
  },
  {
   "cell_type": "code",
   "execution_count": 4,
   "metadata": {
    "collapsed": false
   },
   "outputs": [
    {
     "data": {
      "text/plain": [
       "1    13860\n",
       "dtype: int64"
      ]
     },
     "execution_count": 4,
     "metadata": {},
     "output_type": "execute_result"
    }
   ],
   "source": [
    "games.wicket.value_counts()"
   ]
  },
  {
   "cell_type": "code",
   "execution_count": 5,
   "metadata": {
    "collapsed": false
   },
   "outputs": [],
   "source": [
    "def do_cumsums(df):\n",
    "    df['inn_runs'] = df['total_runs'].cumsum()\n",
    "    df['inn_wickets'] = df['wicket'].fillna(0).cumsum()\n",
    "    return df\n",
    "games = games.groupby(['game_id','innings']).apply(do_cumsums)"
   ]
  },
  {
   "cell_type": "code",
   "execution_count": 6,
   "metadata": {
    "collapsed": false
   },
   "outputs": [],
   "source": [
    "games_trim = games[['game_id','innings','batting_side','over_number','ball_in_over','inn_runs','inn_wickets']]"
   ]
  },
  {
   "cell_type": "code",
   "execution_count": 7,
   "metadata": {
    "collapsed": false
   },
   "outputs": [
    {
     "data": {
      "text/html": [
       "<div>\n",
       "<table border=\"1\" class=\"dataframe\">\n",
       "  <thead>\n",
       "    <tr style=\"text-align: right;\">\n",
       "      <th></th>\n",
       "      <th>game_id</th>\n",
       "      <th>date</th>\n",
       "      <th>venue</th>\n",
       "      <th>city</th>\n",
       "      <th>neutral</th>\n",
       "      <th>match_type</th>\n",
       "      <th>overs</th>\n",
       "      <th>team_inn1</th>\n",
       "      <th>team_inn2</th>\n",
       "      <th>toss_winner</th>\n",
       "      <th>toss_decision</th>\n",
       "      <th>match_winner</th>\n",
       "      <th>win_type</th>\n",
       "      <th>margin</th>\n",
       "      <th>umpires</th>\n",
       "      <th>man_of_match</th>\n",
       "    </tr>\n",
       "  </thead>\n",
       "  <tbody>\n",
       "    <tr>\n",
       "      <th>0</th>\n",
       "      <td>656441</td>\n",
       "      <td>2015-03-01</td>\n",
       "      <td>Westpac Stadium</td>\n",
       "      <td>Wellington</td>\n",
       "      <td>1</td>\n",
       "      <td>ODI</td>\n",
       "      <td>50</td>\n",
       "      <td>England</td>\n",
       "      <td>Sri Lanka</td>\n",
       "      <td>England</td>\n",
       "      <td>bat</td>\n",
       "      <td>Sri Lanka</td>\n",
       "      <td>wickets</td>\n",
       "      <td>9</td>\n",
       "      <td>BNJ Oxenford|RJ Tucker</td>\n",
       "      <td>KC Sangakkara</td>\n",
       "    </tr>\n",
       "    <tr>\n",
       "      <th>1</th>\n",
       "      <td>656469</td>\n",
       "      <td>2015-03-12</td>\n",
       "      <td>Westpac Stadium</td>\n",
       "      <td>Wellington</td>\n",
       "      <td>1</td>\n",
       "      <td>ODI</td>\n",
       "      <td>50</td>\n",
       "      <td>South Africa</td>\n",
       "      <td>United Arab Emirates</td>\n",
       "      <td>United Arab Emirates</td>\n",
       "      <td>field</td>\n",
       "      <td>South Africa</td>\n",
       "      <td>runs</td>\n",
       "      <td>146</td>\n",
       "      <td>SJ Davis|RJ Tucker</td>\n",
       "      <td>AB de Villiers</td>\n",
       "    </tr>\n",
       "    <tr>\n",
       "      <th>2</th>\n",
       "      <td>452152</td>\n",
       "      <td>2010-06-09</td>\n",
       "      <td>Harare Sports Club</td>\n",
       "      <td>NaN</td>\n",
       "      <td>0</td>\n",
       "      <td>ODI</td>\n",
       "      <td>50</td>\n",
       "      <td>Zimbabwe</td>\n",
       "      <td>Sri Lanka</td>\n",
       "      <td>Sri Lanka</td>\n",
       "      <td>field</td>\n",
       "      <td>Sri Lanka</td>\n",
       "      <td>wickets</td>\n",
       "      <td>9</td>\n",
       "      <td>RE Koertzen|RB Tiffin</td>\n",
       "      <td>TM Dilshan</td>\n",
       "    </tr>\n",
       "    <tr>\n",
       "      <th>3</th>\n",
       "      <td>657643</td>\n",
       "      <td>2013-12-25</td>\n",
       "      <td>Sheikh Zayed Stadium</td>\n",
       "      <td>Abu Dhabi</td>\n",
       "      <td>1</td>\n",
       "      <td>ODI</td>\n",
       "      <td>50</td>\n",
       "      <td>Sri Lanka</td>\n",
       "      <td>Pakistan</td>\n",
       "      <td>Sri Lanka</td>\n",
       "      <td>bat</td>\n",
       "      <td>Pakistan</td>\n",
       "      <td>wickets</td>\n",
       "      <td>8</td>\n",
       "      <td>Ahsan Raza|RK Illingworth</td>\n",
       "      <td>Mohammad Hafeez</td>\n",
       "    </tr>\n",
       "    <tr>\n",
       "      <th>4</th>\n",
       "      <td>860269</td>\n",
       "      <td>2015-07-11</td>\n",
       "      <td>Rangiri Dambulla International Stadium</td>\n",
       "      <td>NaN</td>\n",
       "      <td>0</td>\n",
       "      <td>ODI</td>\n",
       "      <td>50</td>\n",
       "      <td>Sri Lanka</td>\n",
       "      <td>Pakistan</td>\n",
       "      <td>Pakistan</td>\n",
       "      <td>field</td>\n",
       "      <td>Pakistan</td>\n",
       "      <td>wickets</td>\n",
       "      <td>6</td>\n",
       "      <td>IJ Gould|REJ Martinesz</td>\n",
       "      <td>Mohammad Hafeez</td>\n",
       "    </tr>\n",
       "  </tbody>\n",
       "</table>\n",
       "</div>"
      ],
      "text/plain": [
       "   game_id        date                                   venue        city  \\\n",
       "0   656441  2015-03-01                         Westpac Stadium  Wellington   \n",
       "1   656469  2015-03-12                         Westpac Stadium  Wellington   \n",
       "2   452152  2010-06-09                      Harare Sports Club         NaN   \n",
       "3   657643  2013-12-25                    Sheikh Zayed Stadium   Abu Dhabi   \n",
       "4   860269  2015-07-11  Rangiri Dambulla International Stadium         NaN   \n",
       "\n",
       "   neutral match_type  overs     team_inn1             team_inn2  \\\n",
       "0        1        ODI     50       England             Sri Lanka   \n",
       "1        1        ODI     50  South Africa  United Arab Emirates   \n",
       "2        0        ODI     50      Zimbabwe             Sri Lanka   \n",
       "3        1        ODI     50     Sri Lanka              Pakistan   \n",
       "4        0        ODI     50     Sri Lanka              Pakistan   \n",
       "\n",
       "            toss_winner toss_decision  match_winner win_type  margin  \\\n",
       "0               England           bat     Sri Lanka  wickets       9   \n",
       "1  United Arab Emirates         field  South Africa     runs     146   \n",
       "2             Sri Lanka         field     Sri Lanka  wickets       9   \n",
       "3             Sri Lanka           bat      Pakistan  wickets       8   \n",
       "4              Pakistan         field      Pakistan  wickets       6   \n",
       "\n",
       "                     umpires     man_of_match  \n",
       "0     BNJ Oxenford|RJ Tucker    KC Sangakkara  \n",
       "1         SJ Davis|RJ Tucker   AB de Villiers  \n",
       "2      RE Koertzen|RB Tiffin       TM Dilshan  \n",
       "3  Ahsan Raza|RK Illingworth  Mohammad Hafeez  \n",
       "4     IJ Gould|REJ Martinesz  Mohammad Hafeez  "
      ]
     },
     "execution_count": 7,
     "metadata": {},
     "output_type": "execute_result"
    }
   ],
   "source": [
    "info.head()"
   ]
  },
  {
   "cell_type": "code",
   "execution_count": 8,
   "metadata": {
    "collapsed": false
   },
   "outputs": [],
   "source": [
    "info_trim = info[['game_id','date','match_winner']]"
   ]
  },
  {
   "cell_type": "code",
   "execution_count": 9,
   "metadata": {
    "collapsed": false
   },
   "outputs": [
    {
     "data": {
      "text/plain": [
       "India                   142\n",
       "Australia               125\n",
       "Sri Lanka               111\n",
       "South Africa             97\n",
       "Pakistan                 94\n",
       "England                  86\n",
       "New Zealand              73\n",
       "Bangladesh               54\n",
       "West Indies              50\n",
       "no result                41\n",
       "Zimbabwe                 24\n",
       "Ireland                  18\n",
       "Afghanistan               9\n",
       "tie                       9\n",
       "Kenya                     8\n",
       "Scotland                  7\n",
       "Canada                    4\n",
       "Netherlands               3\n",
       "Asia XI                   3\n",
       "United Arab Emirates      3\n",
       "Bermuda                   1\n",
       "dtype: int64"
      ]
     },
     "execution_count": 9,
     "metadata": {},
     "output_type": "execute_result"
    }
   ],
   "source": [
    "info_trim.match_winner.value_counts()"
   ]
  },
  {
   "cell_type": "code",
   "execution_count": 10,
   "metadata": {
    "collapsed": false
   },
   "outputs": [],
   "source": [
    "ball_info = pd.merge(games_trim, info_trim, on = 'game_id', how = 'left')"
   ]
  },
  {
   "cell_type": "code",
   "execution_count": 11,
   "metadata": {
    "collapsed": false
   },
   "outputs": [],
   "source": [
    "ball_info = ball_info[~ball_info.match_winner.isin(['tie','no result'])]"
   ]
  },
  {
   "cell_type": "code",
   "execution_count": 12,
   "metadata": {
    "collapsed": false
   },
   "outputs": [],
   "source": [
    "ball_info['bat_win'] = (ball_info.batting_side == ball_info.match_winner)*1"
   ]
  },
  {
   "cell_type": "code",
   "execution_count": 13,
   "metadata": {
    "collapsed": false
   },
   "outputs": [],
   "source": [
    "ball_info['diff_over_6'] = ball_info[ball_info.ball_in_over > 6].ball_in_over - 6\n",
    "ball_info.diff_over_6.fillna(0, inplace = True)"
   ]
  },
  {
   "cell_type": "code",
   "execution_count": 14,
   "metadata": {
    "collapsed": false
   },
   "outputs": [
    {
     "data": {
      "text/html": [
       "<div>\n",
       "<table border=\"1\" class=\"dataframe\">\n",
       "  <thead>\n",
       "    <tr style=\"text-align: right;\">\n",
       "      <th></th>\n",
       "      <th>game_id</th>\n",
       "      <th>innings</th>\n",
       "      <th>batting_side</th>\n",
       "      <th>over_number</th>\n",
       "      <th>ball_in_over</th>\n",
       "      <th>inn_runs</th>\n",
       "      <th>inn_wickets</th>\n",
       "      <th>date</th>\n",
       "      <th>match_winner</th>\n",
       "      <th>bat_win</th>\n",
       "      <th>diff_over_6</th>\n",
       "    </tr>\n",
       "  </thead>\n",
       "  <tbody>\n",
       "    <tr>\n",
       "      <th>0</th>\n",
       "      <td>656441</td>\n",
       "      <td>1st innings</td>\n",
       "      <td>England</td>\n",
       "      <td>0</td>\n",
       "      <td>1</td>\n",
       "      <td>0</td>\n",
       "      <td>0</td>\n",
       "      <td>2015-03-01</td>\n",
       "      <td>Sri Lanka</td>\n",
       "      <td>0</td>\n",
       "      <td>0</td>\n",
       "    </tr>\n",
       "    <tr>\n",
       "      <th>1</th>\n",
       "      <td>656441</td>\n",
       "      <td>1st innings</td>\n",
       "      <td>England</td>\n",
       "      <td>0</td>\n",
       "      <td>2</td>\n",
       "      <td>0</td>\n",
       "      <td>0</td>\n",
       "      <td>2015-03-01</td>\n",
       "      <td>Sri Lanka</td>\n",
       "      <td>0</td>\n",
       "      <td>0</td>\n",
       "    </tr>\n",
       "    <tr>\n",
       "      <th>2</th>\n",
       "      <td>656441</td>\n",
       "      <td>1st innings</td>\n",
       "      <td>England</td>\n",
       "      <td>0</td>\n",
       "      <td>3</td>\n",
       "      <td>1</td>\n",
       "      <td>0</td>\n",
       "      <td>2015-03-01</td>\n",
       "      <td>Sri Lanka</td>\n",
       "      <td>0</td>\n",
       "      <td>0</td>\n",
       "    </tr>\n",
       "    <tr>\n",
       "      <th>3</th>\n",
       "      <td>656441</td>\n",
       "      <td>1st innings</td>\n",
       "      <td>England</td>\n",
       "      <td>0</td>\n",
       "      <td>4</td>\n",
       "      <td>1</td>\n",
       "      <td>0</td>\n",
       "      <td>2015-03-01</td>\n",
       "      <td>Sri Lanka</td>\n",
       "      <td>0</td>\n",
       "      <td>0</td>\n",
       "    </tr>\n",
       "    <tr>\n",
       "      <th>4</th>\n",
       "      <td>656441</td>\n",
       "      <td>1st innings</td>\n",
       "      <td>England</td>\n",
       "      <td>0</td>\n",
       "      <td>5</td>\n",
       "      <td>1</td>\n",
       "      <td>0</td>\n",
       "      <td>2015-03-01</td>\n",
       "      <td>Sri Lanka</td>\n",
       "      <td>0</td>\n",
       "      <td>0</td>\n",
       "    </tr>\n",
       "  </tbody>\n",
       "</table>\n",
       "</div>"
      ],
      "text/plain": [
       "   game_id      innings batting_side  over_number  ball_in_over  inn_runs  \\\n",
       "0   656441  1st innings      England            0             1         0   \n",
       "1   656441  1st innings      England            0             2         0   \n",
       "2   656441  1st innings      England            0             3         1   \n",
       "3   656441  1st innings      England            0             4         1   \n",
       "4   656441  1st innings      England            0             5         1   \n",
       "\n",
       "   inn_wickets        date match_winner  bat_win  diff_over_6  \n",
       "0            0  2015-03-01    Sri Lanka        0            0  \n",
       "1            0  2015-03-01    Sri Lanka        0            0  \n",
       "2            0  2015-03-01    Sri Lanka        0            0  \n",
       "3            0  2015-03-01    Sri Lanka        0            0  \n",
       "4            0  2015-03-01    Sri Lanka        0            0  "
      ]
     },
     "execution_count": 14,
     "metadata": {},
     "output_type": "execute_result"
    }
   ],
   "source": [
    "ball_info.head()"
   ]
  },
  {
   "cell_type": "code",
   "execution_count": 15,
   "metadata": {
    "collapsed": false
   },
   "outputs": [],
   "source": [
    "ball_info['balls_left'] = (300 - ball_info['over_number']*6 - ball_info['ball_in_over'] + ball_info['diff_over_6'])"
   ]
  },
  {
   "cell_type": "code",
   "execution_count": 16,
   "metadata": {
    "collapsed": true
   },
   "outputs": [],
   "source": [
    "ball_info.drop(['diff_over_6'], axis = 1, inplace = True)"
   ]
  },
  {
   "cell_type": "code",
   "execution_count": 17,
   "metadata": {
    "collapsed": false
   },
   "outputs": [],
   "source": [
    "ball_info['pct_balls_left'] = ball_info.balls_left / 300\n",
    "ball_info['pct_wickets_left'] = (10-ball_info.inn_wickets)/10"
   ]
  },
  {
   "cell_type": "code",
   "execution_count": 18,
   "metadata": {
    "collapsed": false
   },
   "outputs": [
    {
     "data": {
      "text/html": [
       "<div>\n",
       "<table border=\"1\" class=\"dataframe\">\n",
       "  <thead>\n",
       "    <tr style=\"text-align: right;\">\n",
       "      <th></th>\n",
       "      <th>game_id</th>\n",
       "      <th>innings</th>\n",
       "      <th>batting_side</th>\n",
       "      <th>over_number</th>\n",
       "      <th>ball_in_over</th>\n",
       "      <th>inn_runs</th>\n",
       "      <th>inn_wickets</th>\n",
       "      <th>date</th>\n",
       "      <th>match_winner</th>\n",
       "      <th>bat_win</th>\n",
       "      <th>balls_left</th>\n",
       "      <th>pct_balls_left</th>\n",
       "      <th>pct_wickets_left</th>\n",
       "    </tr>\n",
       "  </thead>\n",
       "  <tbody>\n",
       "    <tr>\n",
       "      <th>0</th>\n",
       "      <td>656441</td>\n",
       "      <td>1st innings</td>\n",
       "      <td>England</td>\n",
       "      <td>0</td>\n",
       "      <td>1</td>\n",
       "      <td>0</td>\n",
       "      <td>0</td>\n",
       "      <td>2015-03-01</td>\n",
       "      <td>Sri Lanka</td>\n",
       "      <td>0</td>\n",
       "      <td>299</td>\n",
       "      <td>0.996667</td>\n",
       "      <td>1</td>\n",
       "    </tr>\n",
       "    <tr>\n",
       "      <th>1</th>\n",
       "      <td>656441</td>\n",
       "      <td>1st innings</td>\n",
       "      <td>England</td>\n",
       "      <td>0</td>\n",
       "      <td>2</td>\n",
       "      <td>0</td>\n",
       "      <td>0</td>\n",
       "      <td>2015-03-01</td>\n",
       "      <td>Sri Lanka</td>\n",
       "      <td>0</td>\n",
       "      <td>298</td>\n",
       "      <td>0.993333</td>\n",
       "      <td>1</td>\n",
       "    </tr>\n",
       "    <tr>\n",
       "      <th>2</th>\n",
       "      <td>656441</td>\n",
       "      <td>1st innings</td>\n",
       "      <td>England</td>\n",
       "      <td>0</td>\n",
       "      <td>3</td>\n",
       "      <td>1</td>\n",
       "      <td>0</td>\n",
       "      <td>2015-03-01</td>\n",
       "      <td>Sri Lanka</td>\n",
       "      <td>0</td>\n",
       "      <td>297</td>\n",
       "      <td>0.990000</td>\n",
       "      <td>1</td>\n",
       "    </tr>\n",
       "    <tr>\n",
       "      <th>3</th>\n",
       "      <td>656441</td>\n",
       "      <td>1st innings</td>\n",
       "      <td>England</td>\n",
       "      <td>0</td>\n",
       "      <td>4</td>\n",
       "      <td>1</td>\n",
       "      <td>0</td>\n",
       "      <td>2015-03-01</td>\n",
       "      <td>Sri Lanka</td>\n",
       "      <td>0</td>\n",
       "      <td>296</td>\n",
       "      <td>0.986667</td>\n",
       "      <td>1</td>\n",
       "    </tr>\n",
       "    <tr>\n",
       "      <th>4</th>\n",
       "      <td>656441</td>\n",
       "      <td>1st innings</td>\n",
       "      <td>England</td>\n",
       "      <td>0</td>\n",
       "      <td>5</td>\n",
       "      <td>1</td>\n",
       "      <td>0</td>\n",
       "      <td>2015-03-01</td>\n",
       "      <td>Sri Lanka</td>\n",
       "      <td>0</td>\n",
       "      <td>295</td>\n",
       "      <td>0.983333</td>\n",
       "      <td>1</td>\n",
       "    </tr>\n",
       "  </tbody>\n",
       "</table>\n",
       "</div>"
      ],
      "text/plain": [
       "   game_id      innings batting_side  over_number  ball_in_over  inn_runs  \\\n",
       "0   656441  1st innings      England            0             1         0   \n",
       "1   656441  1st innings      England            0             2         0   \n",
       "2   656441  1st innings      England            0             3         1   \n",
       "3   656441  1st innings      England            0             4         1   \n",
       "4   656441  1st innings      England            0             5         1   \n",
       "\n",
       "   inn_wickets        date match_winner  bat_win  balls_left  pct_balls_left  \\\n",
       "0            0  2015-03-01    Sri Lanka        0         299        0.996667   \n",
       "1            0  2015-03-01    Sri Lanka        0         298        0.993333   \n",
       "2            0  2015-03-01    Sri Lanka        0         297        0.990000   \n",
       "3            0  2015-03-01    Sri Lanka        0         296        0.986667   \n",
       "4            0  2015-03-01    Sri Lanka        0         295        0.983333   \n",
       "\n",
       "   pct_wickets_left  \n",
       "0                 1  \n",
       "1                 1  \n",
       "2                 1  \n",
       "3                 1  \n",
       "4                 1  "
      ]
     },
     "execution_count": 18,
     "metadata": {},
     "output_type": "execute_result"
    }
   ],
   "source": [
    "ball_info.head()"
   ]
  },
  {
   "cell_type": "code",
   "execution_count": 19,
   "metadata": {
    "collapsed": false
   },
   "outputs": [],
   "source": [
    "# ball_info.to_csv('balls_with_info.csv',index = False)"
   ]
  },
  {
   "cell_type": "code",
   "execution_count": 20,
   "metadata": {
    "collapsed": false
   },
   "outputs": [
    {
     "data": {
      "text/plain": [
       "1     81326\n",
       "2     81125\n",
       "3     80950\n",
       "4     80757\n",
       "5     80573\n",
       "6     80371\n",
       "7     10897\n",
       "8      1447\n",
       "9       182\n",
       "11        5\n",
       "12        1\n",
       "dtype: int64"
      ]
     },
     "execution_count": 20,
     "metadata": {},
     "output_type": "execute_result"
    }
   ],
   "source": [
    "ball_info.ball_in_over.value_counts()"
   ]
  },
  {
   "cell_type": "code",
   "execution_count": 21,
   "metadata": {
    "collapsed": false
   },
   "outputs": [],
   "source": [
    "# ball_info.groupby('balls_left').resources_left.mean().sort_index(ascending = False).plot()"
   ]
  },
  {
   "cell_type": "code",
   "execution_count": 22,
   "metadata": {
    "collapsed": false
   },
   "outputs": [],
   "source": [
    "chase_numbers = ball_info[ball_info.innings == '1st innings'].groupby('game_id').inn_runs.max().reset_index()\n",
    "chase_numbers.columns = ['game_id','chase_total']\n",
    "balls_w_chase = pd.merge(ball_info, chase_numbers, on = 'game_id', how = 'left')"
   ]
  },
  {
   "cell_type": "code",
   "execution_count": 23,
   "metadata": {
    "collapsed": false
   },
   "outputs": [
    {
     "name": "stderr",
     "output_type": "stream",
     "text": [
      "/usr/local/lib/python2.7/dist-packages/ipykernel/__main__.py:1: SettingWithCopyWarning: \n",
      "A value is trying to be set on a copy of a slice from a DataFrame\n",
      "\n",
      "See the the caveats in the documentation: http://pandas.pydata.org/pandas-docs/stable/indexing.html#indexing-view-versus-copy\n",
      "  if __name__ == '__main__':\n"
     ]
    }
   ],
   "source": [
    "balls_w_chase.chase_total[balls_w_chase.innings == '1st innings'] = None"
   ]
  },
  {
   "cell_type": "code",
   "execution_count": 24,
   "metadata": {
    "collapsed": false
   },
   "outputs": [],
   "source": [
    "balls_w_chase['runs_to_chase'] = balls_w_chase.chase_total - balls_w_chase.inn_runs"
   ]
  },
  {
   "cell_type": "code",
   "execution_count": 25,
   "metadata": {
    "collapsed": false
   },
   "outputs": [
    {
     "name": "stderr",
     "output_type": "stream",
     "text": [
      "/usr/local/lib/python2.7/dist-packages/ipykernel/__main__.py:1: SettingWithCopyWarning: \n",
      "A value is trying to be set on a copy of a slice from a DataFrame\n",
      "\n",
      "See the the caveats in the documentation: http://pandas.pydata.org/pandas-docs/stable/indexing.html#indexing-view-versus-copy\n",
      "  if __name__ == '__main__':\n"
     ]
    }
   ],
   "source": [
    "balls_w_chase.runs_to_chase[balls_w_chase.runs_to_chase < 0] = 0"
   ]
  },
  {
   "cell_type": "code",
   "execution_count": 26,
   "metadata": {
    "collapsed": false
   },
   "outputs": [
    {
     "data": {
      "text/html": [
       "<div>\n",
       "<table border=\"1\" class=\"dataframe\">\n",
       "  <thead>\n",
       "    <tr style=\"text-align: right;\">\n",
       "      <th></th>\n",
       "      <th>game_id</th>\n",
       "      <th>innings</th>\n",
       "      <th>batting_side</th>\n",
       "      <th>over_number</th>\n",
       "      <th>ball_in_over</th>\n",
       "      <th>inn_runs</th>\n",
       "      <th>inn_wickets</th>\n",
       "      <th>date</th>\n",
       "      <th>match_winner</th>\n",
       "      <th>bat_win</th>\n",
       "      <th>balls_left</th>\n",
       "      <th>pct_balls_left</th>\n",
       "      <th>pct_wickets_left</th>\n",
       "      <th>chase_total</th>\n",
       "      <th>runs_to_chase</th>\n",
       "    </tr>\n",
       "  </thead>\n",
       "  <tbody>\n",
       "    <tr>\n",
       "      <th>497629</th>\n",
       "      <td>446958</td>\n",
       "      <td>2nd innings</td>\n",
       "      <td>Australia</td>\n",
       "      <td>36</td>\n",
       "      <td>6</td>\n",
       "      <td>206</td>\n",
       "      <td>9</td>\n",
       "      <td>2010-11-05</td>\n",
       "      <td>Sri Lanka</td>\n",
       "      <td>0</td>\n",
       "      <td>78</td>\n",
       "      <td>0.260000</td>\n",
       "      <td>0.1</td>\n",
       "      <td>213</td>\n",
       "      <td>7</td>\n",
       "    </tr>\n",
       "    <tr>\n",
       "      <th>497630</th>\n",
       "      <td>446958</td>\n",
       "      <td>2nd innings</td>\n",
       "      <td>Australia</td>\n",
       "      <td>37</td>\n",
       "      <td>1</td>\n",
       "      <td>207</td>\n",
       "      <td>9</td>\n",
       "      <td>2010-11-05</td>\n",
       "      <td>Sri Lanka</td>\n",
       "      <td>0</td>\n",
       "      <td>77</td>\n",
       "      <td>0.256667</td>\n",
       "      <td>0.1</td>\n",
       "      <td>213</td>\n",
       "      <td>6</td>\n",
       "    </tr>\n",
       "    <tr>\n",
       "      <th>497631</th>\n",
       "      <td>446958</td>\n",
       "      <td>2nd innings</td>\n",
       "      <td>Australia</td>\n",
       "      <td>37</td>\n",
       "      <td>2</td>\n",
       "      <td>207</td>\n",
       "      <td>9</td>\n",
       "      <td>2010-11-05</td>\n",
       "      <td>Sri Lanka</td>\n",
       "      <td>0</td>\n",
       "      <td>76</td>\n",
       "      <td>0.253333</td>\n",
       "      <td>0.1</td>\n",
       "      <td>213</td>\n",
       "      <td>6</td>\n",
       "    </tr>\n",
       "    <tr>\n",
       "      <th>497632</th>\n",
       "      <td>446958</td>\n",
       "      <td>2nd innings</td>\n",
       "      <td>Australia</td>\n",
       "      <td>37</td>\n",
       "      <td>3</td>\n",
       "      <td>210</td>\n",
       "      <td>9</td>\n",
       "      <td>2010-11-05</td>\n",
       "      <td>Sri Lanka</td>\n",
       "      <td>0</td>\n",
       "      <td>75</td>\n",
       "      <td>0.250000</td>\n",
       "      <td>0.1</td>\n",
       "      <td>213</td>\n",
       "      <td>3</td>\n",
       "    </tr>\n",
       "    <tr>\n",
       "      <th>497633</th>\n",
       "      <td>446958</td>\n",
       "      <td>2nd innings</td>\n",
       "      <td>Australia</td>\n",
       "      <td>37</td>\n",
       "      <td>4</td>\n",
       "      <td>210</td>\n",
       "      <td>10</td>\n",
       "      <td>2010-11-05</td>\n",
       "      <td>Sri Lanka</td>\n",
       "      <td>0</td>\n",
       "      <td>74</td>\n",
       "      <td>0.246667</td>\n",
       "      <td>0.0</td>\n",
       "      <td>213</td>\n",
       "      <td>3</td>\n",
       "    </tr>\n",
       "  </tbody>\n",
       "</table>\n",
       "</div>"
      ],
      "text/plain": [
       "        game_id      innings batting_side  over_number  ball_in_over  \\\n",
       "497629   446958  2nd innings    Australia           36             6   \n",
       "497630   446958  2nd innings    Australia           37             1   \n",
       "497631   446958  2nd innings    Australia           37             2   \n",
       "497632   446958  2nd innings    Australia           37             3   \n",
       "497633   446958  2nd innings    Australia           37             4   \n",
       "\n",
       "        inn_runs  inn_wickets        date match_winner  bat_win  balls_left  \\\n",
       "497629       206            9  2010-11-05    Sri Lanka        0          78   \n",
       "497630       207            9  2010-11-05    Sri Lanka        0          77   \n",
       "497631       207            9  2010-11-05    Sri Lanka        0          76   \n",
       "497632       210            9  2010-11-05    Sri Lanka        0          75   \n",
       "497633       210           10  2010-11-05    Sri Lanka        0          74   \n",
       "\n",
       "        pct_balls_left  pct_wickets_left  chase_total  runs_to_chase  \n",
       "497629        0.260000               0.1          213              7  \n",
       "497630        0.256667               0.1          213              6  \n",
       "497631        0.253333               0.1          213              6  \n",
       "497632        0.250000               0.1          213              3  \n",
       "497633        0.246667               0.0          213              3  "
      ]
     },
     "execution_count": 26,
     "metadata": {},
     "output_type": "execute_result"
    }
   ],
   "source": [
    "balls_w_chase.tail()"
   ]
  },
  {
   "cell_type": "code",
   "execution_count": 27,
   "metadata": {
    "collapsed": false
   },
   "outputs": [
    {
     "data": {
      "text/html": [
       "<div>\n",
       "<table border=\"1\" class=\"dataframe\">\n",
       "  <thead>\n",
       "    <tr style=\"text-align: right;\">\n",
       "      <th></th>\n",
       "      <th>game_id</th>\n",
       "      <th>innings</th>\n",
       "      <th>batting_side</th>\n",
       "      <th>over_number</th>\n",
       "      <th>ball_in_over</th>\n",
       "      <th>inn_runs</th>\n",
       "      <th>inn_wickets</th>\n",
       "      <th>date</th>\n",
       "      <th>match_winner</th>\n",
       "      <th>bat_win</th>\n",
       "      <th>balls_left</th>\n",
       "      <th>pct_balls_left</th>\n",
       "      <th>pct_wickets_left</th>\n",
       "      <th>chase_total</th>\n",
       "      <th>runs_to_chase</th>\n",
       "    </tr>\n",
       "  </thead>\n",
       "  <tbody>\n",
       "    <tr>\n",
       "      <th>0</th>\n",
       "      <td>656441</td>\n",
       "      <td>1st innings</td>\n",
       "      <td>England</td>\n",
       "      <td>0</td>\n",
       "      <td>1</td>\n",
       "      <td>0</td>\n",
       "      <td>0</td>\n",
       "      <td>2015-03-01</td>\n",
       "      <td>Sri Lanka</td>\n",
       "      <td>0</td>\n",
       "      <td>299</td>\n",
       "      <td>0.996667</td>\n",
       "      <td>1</td>\n",
       "      <td>NaN</td>\n",
       "      <td>NaN</td>\n",
       "    </tr>\n",
       "    <tr>\n",
       "      <th>1</th>\n",
       "      <td>656441</td>\n",
       "      <td>1st innings</td>\n",
       "      <td>England</td>\n",
       "      <td>0</td>\n",
       "      <td>2</td>\n",
       "      <td>0</td>\n",
       "      <td>0</td>\n",
       "      <td>2015-03-01</td>\n",
       "      <td>Sri Lanka</td>\n",
       "      <td>0</td>\n",
       "      <td>298</td>\n",
       "      <td>0.993333</td>\n",
       "      <td>1</td>\n",
       "      <td>NaN</td>\n",
       "      <td>NaN</td>\n",
       "    </tr>\n",
       "    <tr>\n",
       "      <th>2</th>\n",
       "      <td>656441</td>\n",
       "      <td>1st innings</td>\n",
       "      <td>England</td>\n",
       "      <td>0</td>\n",
       "      <td>3</td>\n",
       "      <td>1</td>\n",
       "      <td>0</td>\n",
       "      <td>2015-03-01</td>\n",
       "      <td>Sri Lanka</td>\n",
       "      <td>0</td>\n",
       "      <td>297</td>\n",
       "      <td>0.990000</td>\n",
       "      <td>1</td>\n",
       "      <td>NaN</td>\n",
       "      <td>NaN</td>\n",
       "    </tr>\n",
       "    <tr>\n",
       "      <th>3</th>\n",
       "      <td>656441</td>\n",
       "      <td>1st innings</td>\n",
       "      <td>England</td>\n",
       "      <td>0</td>\n",
       "      <td>4</td>\n",
       "      <td>1</td>\n",
       "      <td>0</td>\n",
       "      <td>2015-03-01</td>\n",
       "      <td>Sri Lanka</td>\n",
       "      <td>0</td>\n",
       "      <td>296</td>\n",
       "      <td>0.986667</td>\n",
       "      <td>1</td>\n",
       "      <td>NaN</td>\n",
       "      <td>NaN</td>\n",
       "    </tr>\n",
       "    <tr>\n",
       "      <th>4</th>\n",
       "      <td>656441</td>\n",
       "      <td>1st innings</td>\n",
       "      <td>England</td>\n",
       "      <td>0</td>\n",
       "      <td>5</td>\n",
       "      <td>1</td>\n",
       "      <td>0</td>\n",
       "      <td>2015-03-01</td>\n",
       "      <td>Sri Lanka</td>\n",
       "      <td>0</td>\n",
       "      <td>295</td>\n",
       "      <td>0.983333</td>\n",
       "      <td>1</td>\n",
       "      <td>NaN</td>\n",
       "      <td>NaN</td>\n",
       "    </tr>\n",
       "  </tbody>\n",
       "</table>\n",
       "</div>"
      ],
      "text/plain": [
       "   game_id      innings batting_side  over_number  ball_in_over  inn_runs  \\\n",
       "0   656441  1st innings      England            0             1         0   \n",
       "1   656441  1st innings      England            0             2         0   \n",
       "2   656441  1st innings      England            0             3         1   \n",
       "3   656441  1st innings      England            0             4         1   \n",
       "4   656441  1st innings      England            0             5         1   \n",
       "\n",
       "   inn_wickets        date match_winner  bat_win  balls_left  pct_balls_left  \\\n",
       "0            0  2015-03-01    Sri Lanka        0         299        0.996667   \n",
       "1            0  2015-03-01    Sri Lanka        0         298        0.993333   \n",
       "2            0  2015-03-01    Sri Lanka        0         297        0.990000   \n",
       "3            0  2015-03-01    Sri Lanka        0         296        0.986667   \n",
       "4            0  2015-03-01    Sri Lanka        0         295        0.983333   \n",
       "\n",
       "   pct_wickets_left  chase_total  runs_to_chase  \n",
       "0                 1          NaN            NaN  \n",
       "1                 1          NaN            NaN  \n",
       "2                 1          NaN            NaN  \n",
       "3                 1          NaN            NaN  \n",
       "4                 1          NaN            NaN  "
      ]
     },
     "execution_count": 27,
     "metadata": {},
     "output_type": "execute_result"
    }
   ],
   "source": [
    "balls_w_chase.head()"
   ]
  },
  {
   "cell_type": "code",
   "execution_count": null,
   "metadata": {
    "collapsed": true
   },
   "outputs": [],
   "source": []
  }
 ],
 "metadata": {
  "kernelspec": {
   "display_name": "Python 2",
   "language": "python",
   "name": "python2"
  },
  "language_info": {
   "codemirror_mode": {
    "name": "ipython",
    "version": 2
   },
   "file_extension": ".py",
   "mimetype": "text/x-python",
   "name": "python",
   "nbconvert_exporter": "python",
   "pygments_lexer": "ipython2",
   "version": "2.7.9"
  }
 },
 "nbformat": 4,
 "nbformat_minor": 0
}
