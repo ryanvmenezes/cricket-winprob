{
 "metadata": {
  "name": "",
  "signature": "sha256:eb7884c8e4b3d9768da0fe5659f567d4ebc6e60bade062cc1a0f5a4f1091e5d6"
 },
 "nbformat": 3,
 "nbformat_minor": 0,
 "worksheets": [
  {
   "cells": [
    {
     "cell_type": "code",
     "collapsed": false,
     "input": [
      "import pandas as pd\n",
      "import yaml\n",
      "import numpy as np"
     ],
     "language": "python",
     "metadata": {},
     "outputs": [],
     "prompt_number": 39
    },
    {
     "cell_type": "code",
     "collapsed": false,
     "input": [
      "with open('812645.yaml','r') as file:\n",
      "    game = yaml.load(file)"
     ],
     "language": "python",
     "metadata": {},
     "outputs": [],
     "prompt_number": 4
    },
    {
     "cell_type": "code",
     "collapsed": false,
     "input": [
      "game['info']"
     ],
     "language": "python",
     "metadata": {},
     "outputs": [
      {
       "metadata": {},
       "output_type": "pyout",
       "prompt_number": 63,
       "text": [
        "{'city': 'Abu Dhabi',\n",
        " 'dates': [datetime.date(2015, 1, 14)],\n",
        " 'match_type': 'ODI',\n",
        " 'neutral_venue': 1,\n",
        " 'outcome': {'by': {'runs': 150}, 'winner': 'Scotland'},\n",
        " 'overs': 50,\n",
        " 'player_of_match': ['JH Davey'],\n",
        " 'teams': ['Afghanistan', 'Scotland'],\n",
        " 'toss': {'decision': 'bat', 'winner': 'Scotland'},\n",
        " 'umpires': ['VA Kulkarni', 'Sharfuddoula'],\n",
        " 'venue': 'Sheikh Zayed Stadium'}"
       ]
      }
     ],
     "prompt_number": 63
    },
    {
     "cell_type": "code",
     "collapsed": false,
     "input": [
      "bool(game['info'].get('player_of_match'))"
     ],
     "language": "python",
     "metadata": {},
     "outputs": [
      {
       "metadata": {},
       "output_type": "pyout",
       "prompt_number": 70,
       "text": [
        "True"
       ]
      }
     ],
     "prompt_number": 70
    },
    {
     "cell_type": "code",
     "collapsed": false,
     "input": [
      "def get_game_info(info_dict):\n",
      "    start_date = info_dict['dates'][0]\n",
      "    venue = info_dict['venue']\n",
      "    city = info_dict['city']\n",
      "    match_type = info_dict['match_type']\n",
      "    neutral = info_dict.get('neutral_venue',0)\n",
      "    toss_winner = info_dict['toss']['winner']\n",
      "    toss_loser = list(set(info_dict['teams']) - set([toss_winner]))[0]\n",
      "    toss_decision = info_dict['toss']['decision']\n",
      "    team_inn1 = toss_winner if toss_decision == 'bat' else toss_loser\n",
      "    team_inn2 = list(set(info_dict['teams']) - set([team_inn1]))\n",
      "    umpires = '|'.join(info_dict['umpires'])\n",
      "    man_of_match = '|'.join(info_dict['player_of_match'])\n",
      "    if info_dict.get('result') is not None:\n",
      "        match_winner = info_dict['outcome']['by']['winner']\n",
      "        win_type = info_dict['outcome']['by'].keys()[0]\n",
      "        margin = info_dict['outcome']['by'][win_type]\n",
      "    else:\n",
      "        match_winner = info_dict['result']\n",
      "        win_type = 'NA'\n",
      "        margin = 'NA'\n",
      "    overs = info_dict['overs']\n",
      "    return (start_date, city, venue, neutral, match_type, overs, team_inn1, team_inn2, toss_winner, toss_decision, \n",
      "            match_winner, win_type, win_margin, umpires, man_of_match)"
     ],
     "language": "python",
     "metadata": {},
     "outputs": [],
     "prompt_number": 57
    },
    {
     "cell_type": "code",
     "collapsed": false,
     "input": [
      "game['innings'][0]['1st innings']['deliveries'][32][5.3]['wicket']"
     ],
     "language": "python",
     "metadata": {},
     "outputs": [
      {
       "ename": "KeyError",
       "evalue": "'wicket'",
       "output_type": "pyerr",
       "traceback": [
        "\u001b[1;31m---------------------------------------------------------------------------\u001b[0m\n\u001b[1;31mKeyError\u001b[0m                                  Traceback (most recent call last)",
        "\u001b[1;32m<ipython-input-48-9c5a8586828c>\u001b[0m in \u001b[0;36m<module>\u001b[1;34m()\u001b[0m\n\u001b[1;32m----> 1\u001b[1;33m \u001b[0mgame\u001b[0m\u001b[1;33m[\u001b[0m\u001b[1;34m'innings'\u001b[0m\u001b[1;33m]\u001b[0m\u001b[1;33m[\u001b[0m\u001b[1;36m0\u001b[0m\u001b[1;33m]\u001b[0m\u001b[1;33m[\u001b[0m\u001b[1;34m'1st innings'\u001b[0m\u001b[1;33m]\u001b[0m\u001b[1;33m[\u001b[0m\u001b[1;34m'deliveries'\u001b[0m\u001b[1;33m]\u001b[0m\u001b[1;33m[\u001b[0m\u001b[1;36m32\u001b[0m\u001b[1;33m]\u001b[0m\u001b[1;33m[\u001b[0m\u001b[1;36m5.3\u001b[0m\u001b[1;33m]\u001b[0m\u001b[1;33m[\u001b[0m\u001b[1;34m'wicket'\u001b[0m\u001b[1;33m]\u001b[0m\u001b[1;33m\u001b[0m\u001b[0m\n\u001b[0m",
        "\u001b[1;31mKeyError\u001b[0m: 'wicket'"
       ]
      }
     ],
     "prompt_number": 48
    },
    {
     "cell_type": "code",
     "collapsed": false,
     "input": [
      "ball = []\n",
      "bowler = []\n",
      "batsman = []\n",
      "non_striker = []\n",
      "batted_runs = []\n",
      "extras = []\n",
      "total_runs = []\n",
      "wickets = []"
     ],
     "language": "python",
     "metadata": {},
     "outputs": [],
     "prompt_number": 49
    },
    {
     "cell_type": "code",
     "collapsed": false,
     "input": [
      "for b in game['innings'][0]['1st innings']['deliveries']:\n",
      "    ball_details = b[b.keys()[0]]\n",
      "    ball.append(str(b.keys()[0]))\n",
      "    bowler.append(ball_details['bowler'])\n",
      "    batsman.append(ball_details['batsman'])\n",
      "    non_striker.append(ball_details['non_striker'])\n",
      "    batted_runs.append(ball_details['runs']['batsman'])\n",
      "    extras.append(ball_details['runs']['extras'])\n",
      "    total_runs.append(ball_details['runs']['total'])\n",
      "    try:\n",
      "        ball_details['wicket']\n",
      "        wickets.append(True)\n",
      "    except KeyError:\n",
      "        wickets.append(False)"
     ],
     "language": "python",
     "metadata": {},
     "outputs": [],
     "prompt_number": 50
    },
    {
     "cell_type": "code",
     "collapsed": false,
     "input": [
      "pbyp = pd.DataFrame({'ball':ball,\n",
      "                     'bowler':bowler,\n",
      "                     'batsman':batsman,\n",
      "                     'non_striker':non_striker,\n",
      "                     'batted_runs':batted_runs,\n",
      "                     'extras':extras,\n",
      "                     'total_runs':total_runs,\n",
      "                     'wicket':wickets})"
     ],
     "language": "python",
     "metadata": {},
     "outputs": [],
     "prompt_number": 53
    },
    {
     "cell_type": "code",
     "collapsed": false,
     "input": [
      "pbyp['innings_total'] = np.cumsum(pbyp.total_runs)\n",
      "pbyp['wickets_fallen'] = np.cumsum(pbyp.wicket)"
     ],
     "language": "python",
     "metadata": {},
     "outputs": [],
     "prompt_number": 55
    },
    {
     "cell_type": "code",
     "collapsed": false,
     "input": [
      "pbyp"
     ],
     "language": "python",
     "metadata": {},
     "outputs": [
      {
       "html": [
        "<div style=\"max-height:1000px;max-width:1500px;overflow:auto;\">\n",
        "<table border=\"1\" class=\"dataframe\">\n",
        "  <thead>\n",
        "    <tr style=\"text-align: right;\">\n",
        "      <th></th>\n",
        "      <th>ball</th>\n",
        "      <th>batsman</th>\n",
        "      <th>batted_runs</th>\n",
        "      <th>bowler</th>\n",
        "      <th>extras</th>\n",
        "      <th>non_striker</th>\n",
        "      <th>total_runs</th>\n",
        "      <th>wicket</th>\n",
        "      <th>innings_total</th>\n",
        "      <th>wickets_fallen</th>\n",
        "    </tr>\n",
        "  </thead>\n",
        "  <tbody>\n",
        "    <tr>\n",
        "      <th>0  </th>\n",
        "      <td>  0.1</td>\n",
        "      <td>    KJ Coetzer</td>\n",
        "      <td> 0</td>\n",
        "      <td> Izatullah Dawlatzai</td>\n",
        "      <td> 0</td>\n",
        "      <td>    CS MacLeod</td>\n",
        "      <td> 0</td>\n",
        "      <td> False</td>\n",
        "      <td>   0</td>\n",
        "      <td> 0</td>\n",
        "    </tr>\n",
        "    <tr>\n",
        "      <th>1  </th>\n",
        "      <td>  0.2</td>\n",
        "      <td>    KJ Coetzer</td>\n",
        "      <td> 0</td>\n",
        "      <td> Izatullah Dawlatzai</td>\n",
        "      <td> 0</td>\n",
        "      <td>    CS MacLeod</td>\n",
        "      <td> 0</td>\n",
        "      <td> False</td>\n",
        "      <td>   0</td>\n",
        "      <td> 0</td>\n",
        "    </tr>\n",
        "    <tr>\n",
        "      <th>2  </th>\n",
        "      <td>  0.3</td>\n",
        "      <td>    KJ Coetzer</td>\n",
        "      <td> 4</td>\n",
        "      <td> Izatullah Dawlatzai</td>\n",
        "      <td> 0</td>\n",
        "      <td>    CS MacLeod</td>\n",
        "      <td> 4</td>\n",
        "      <td> False</td>\n",
        "      <td>   4</td>\n",
        "      <td> 0</td>\n",
        "    </tr>\n",
        "    <tr>\n",
        "      <th>3  </th>\n",
        "      <td>  0.4</td>\n",
        "      <td>    KJ Coetzer</td>\n",
        "      <td> 0</td>\n",
        "      <td> Izatullah Dawlatzai</td>\n",
        "      <td> 0</td>\n",
        "      <td>    CS MacLeod</td>\n",
        "      <td> 0</td>\n",
        "      <td> False</td>\n",
        "      <td>   4</td>\n",
        "      <td> 0</td>\n",
        "    </tr>\n",
        "    <tr>\n",
        "      <th>4  </th>\n",
        "      <td>  0.5</td>\n",
        "      <td>    KJ Coetzer</td>\n",
        "      <td> 0</td>\n",
        "      <td> Izatullah Dawlatzai</td>\n",
        "      <td> 0</td>\n",
        "      <td>    CS MacLeod</td>\n",
        "      <td> 0</td>\n",
        "      <td> False</td>\n",
        "      <td>   4</td>\n",
        "      <td> 0</td>\n",
        "    </tr>\n",
        "    <tr>\n",
        "      <th>5  </th>\n",
        "      <td>  0.6</td>\n",
        "      <td>    KJ Coetzer</td>\n",
        "      <td> 1</td>\n",
        "      <td> Izatullah Dawlatzai</td>\n",
        "      <td> 0</td>\n",
        "      <td>    CS MacLeod</td>\n",
        "      <td> 1</td>\n",
        "      <td> False</td>\n",
        "      <td>   5</td>\n",
        "      <td> 0</td>\n",
        "    </tr>\n",
        "    <tr>\n",
        "      <th>6  </th>\n",
        "      <td>  1.1</td>\n",
        "      <td>    KJ Coetzer</td>\n",
        "      <td> 0</td>\n",
        "      <td>          Aftab Alam</td>\n",
        "      <td> 0</td>\n",
        "      <td>    CS MacLeod</td>\n",
        "      <td> 0</td>\n",
        "      <td> False</td>\n",
        "      <td>   5</td>\n",
        "      <td> 0</td>\n",
        "    </tr>\n",
        "    <tr>\n",
        "      <th>7  </th>\n",
        "      <td>  1.2</td>\n",
        "      <td>    KJ Coetzer</td>\n",
        "      <td> 4</td>\n",
        "      <td>          Aftab Alam</td>\n",
        "      <td> 0</td>\n",
        "      <td>    CS MacLeod</td>\n",
        "      <td> 4</td>\n",
        "      <td> False</td>\n",
        "      <td>   9</td>\n",
        "      <td> 0</td>\n",
        "    </tr>\n",
        "    <tr>\n",
        "      <th>8  </th>\n",
        "      <td>  1.3</td>\n",
        "      <td>    KJ Coetzer</td>\n",
        "      <td> 0</td>\n",
        "      <td>          Aftab Alam</td>\n",
        "      <td> 0</td>\n",
        "      <td>    CS MacLeod</td>\n",
        "      <td> 0</td>\n",
        "      <td> False</td>\n",
        "      <td>   9</td>\n",
        "      <td> 0</td>\n",
        "    </tr>\n",
        "    <tr>\n",
        "      <th>9  </th>\n",
        "      <td>  1.4</td>\n",
        "      <td>    KJ Coetzer</td>\n",
        "      <td> 1</td>\n",
        "      <td>          Aftab Alam</td>\n",
        "      <td> 0</td>\n",
        "      <td>    CS MacLeod</td>\n",
        "      <td> 1</td>\n",
        "      <td> False</td>\n",
        "      <td>  10</td>\n",
        "      <td> 0</td>\n",
        "    </tr>\n",
        "    <tr>\n",
        "      <th>10 </th>\n",
        "      <td>  1.5</td>\n",
        "      <td>    CS MacLeod</td>\n",
        "      <td> 0</td>\n",
        "      <td>          Aftab Alam</td>\n",
        "      <td> 0</td>\n",
        "      <td>    KJ Coetzer</td>\n",
        "      <td> 0</td>\n",
        "      <td> False</td>\n",
        "      <td>  10</td>\n",
        "      <td> 0</td>\n",
        "    </tr>\n",
        "    <tr>\n",
        "      <th>11 </th>\n",
        "      <td>  1.6</td>\n",
        "      <td>    CS MacLeod</td>\n",
        "      <td> 0</td>\n",
        "      <td>          Aftab Alam</td>\n",
        "      <td> 0</td>\n",
        "      <td>    KJ Coetzer</td>\n",
        "      <td> 0</td>\n",
        "      <td> False</td>\n",
        "      <td>  10</td>\n",
        "      <td> 0</td>\n",
        "    </tr>\n",
        "    <tr>\n",
        "      <th>12 </th>\n",
        "      <td>  2.1</td>\n",
        "      <td>    KJ Coetzer</td>\n",
        "      <td> 0</td>\n",
        "      <td> Izatullah Dawlatzai</td>\n",
        "      <td> 0</td>\n",
        "      <td>    CS MacLeod</td>\n",
        "      <td> 0</td>\n",
        "      <td> False</td>\n",
        "      <td>  10</td>\n",
        "      <td> 0</td>\n",
        "    </tr>\n",
        "    <tr>\n",
        "      <th>13 </th>\n",
        "      <td>  2.2</td>\n",
        "      <td>    KJ Coetzer</td>\n",
        "      <td> 0</td>\n",
        "      <td> Izatullah Dawlatzai</td>\n",
        "      <td> 0</td>\n",
        "      <td>    CS MacLeod</td>\n",
        "      <td> 0</td>\n",
        "      <td> False</td>\n",
        "      <td>  10</td>\n",
        "      <td> 0</td>\n",
        "    </tr>\n",
        "    <tr>\n",
        "      <th>14 </th>\n",
        "      <td>  2.3</td>\n",
        "      <td>    KJ Coetzer</td>\n",
        "      <td> 0</td>\n",
        "      <td> Izatullah Dawlatzai</td>\n",
        "      <td> 0</td>\n",
        "      <td>    CS MacLeod</td>\n",
        "      <td> 0</td>\n",
        "      <td> False</td>\n",
        "      <td>  10</td>\n",
        "      <td> 0</td>\n",
        "    </tr>\n",
        "    <tr>\n",
        "      <th>15 </th>\n",
        "      <td>  2.4</td>\n",
        "      <td>    KJ Coetzer</td>\n",
        "      <td> 0</td>\n",
        "      <td> Izatullah Dawlatzai</td>\n",
        "      <td> 0</td>\n",
        "      <td>    CS MacLeod</td>\n",
        "      <td> 0</td>\n",
        "      <td> False</td>\n",
        "      <td>  10</td>\n",
        "      <td> 0</td>\n",
        "    </tr>\n",
        "    <tr>\n",
        "      <th>16 </th>\n",
        "      <td>  2.5</td>\n",
        "      <td>    KJ Coetzer</td>\n",
        "      <td> 0</td>\n",
        "      <td> Izatullah Dawlatzai</td>\n",
        "      <td> 0</td>\n",
        "      <td>    CS MacLeod</td>\n",
        "      <td> 0</td>\n",
        "      <td> False</td>\n",
        "      <td>  10</td>\n",
        "      <td> 0</td>\n",
        "    </tr>\n",
        "    <tr>\n",
        "      <th>17 </th>\n",
        "      <td>  2.6</td>\n",
        "      <td>    KJ Coetzer</td>\n",
        "      <td> 0</td>\n",
        "      <td> Izatullah Dawlatzai</td>\n",
        "      <td> 0</td>\n",
        "      <td>    CS MacLeod</td>\n",
        "      <td> 0</td>\n",
        "      <td> False</td>\n",
        "      <td>  10</td>\n",
        "      <td> 0</td>\n",
        "    </tr>\n",
        "    <tr>\n",
        "      <th>18 </th>\n",
        "      <td>  3.1</td>\n",
        "      <td>    CS MacLeod</td>\n",
        "      <td> 0</td>\n",
        "      <td>          Aftab Alam</td>\n",
        "      <td> 0</td>\n",
        "      <td>    KJ Coetzer</td>\n",
        "      <td> 0</td>\n",
        "      <td> False</td>\n",
        "      <td>  10</td>\n",
        "      <td> 0</td>\n",
        "    </tr>\n",
        "    <tr>\n",
        "      <th>19 </th>\n",
        "      <td>  3.2</td>\n",
        "      <td>    CS MacLeod</td>\n",
        "      <td> 0</td>\n",
        "      <td>          Aftab Alam</td>\n",
        "      <td> 0</td>\n",
        "      <td>    KJ Coetzer</td>\n",
        "      <td> 0</td>\n",
        "      <td> False</td>\n",
        "      <td>  10</td>\n",
        "      <td> 0</td>\n",
        "    </tr>\n",
        "    <tr>\n",
        "      <th>20 </th>\n",
        "      <td>  3.3</td>\n",
        "      <td>    CS MacLeod</td>\n",
        "      <td> 0</td>\n",
        "      <td>          Aftab Alam</td>\n",
        "      <td> 0</td>\n",
        "      <td>    KJ Coetzer</td>\n",
        "      <td> 0</td>\n",
        "      <td> False</td>\n",
        "      <td>  10</td>\n",
        "      <td> 0</td>\n",
        "    </tr>\n",
        "    <tr>\n",
        "      <th>21 </th>\n",
        "      <td>  3.4</td>\n",
        "      <td>    CS MacLeod</td>\n",
        "      <td> 0</td>\n",
        "      <td>          Aftab Alam</td>\n",
        "      <td> 0</td>\n",
        "      <td>    KJ Coetzer</td>\n",
        "      <td> 0</td>\n",
        "      <td> False</td>\n",
        "      <td>  10</td>\n",
        "      <td> 0</td>\n",
        "    </tr>\n",
        "    <tr>\n",
        "      <th>22 </th>\n",
        "      <td>  3.5</td>\n",
        "      <td>    CS MacLeod</td>\n",
        "      <td> 0</td>\n",
        "      <td>          Aftab Alam</td>\n",
        "      <td> 0</td>\n",
        "      <td>    KJ Coetzer</td>\n",
        "      <td> 0</td>\n",
        "      <td> False</td>\n",
        "      <td>  10</td>\n",
        "      <td> 0</td>\n",
        "    </tr>\n",
        "    <tr>\n",
        "      <th>23 </th>\n",
        "      <td>  3.6</td>\n",
        "      <td>    CS MacLeod</td>\n",
        "      <td> 0</td>\n",
        "      <td>          Aftab Alam</td>\n",
        "      <td> 0</td>\n",
        "      <td>    KJ Coetzer</td>\n",
        "      <td> 0</td>\n",
        "      <td> False</td>\n",
        "      <td>  10</td>\n",
        "      <td> 0</td>\n",
        "    </tr>\n",
        "    <tr>\n",
        "      <th>24 </th>\n",
        "      <td>  4.1</td>\n",
        "      <td>    KJ Coetzer</td>\n",
        "      <td> 2</td>\n",
        "      <td> Izatullah Dawlatzai</td>\n",
        "      <td> 0</td>\n",
        "      <td>    CS MacLeod</td>\n",
        "      <td> 2</td>\n",
        "      <td> False</td>\n",
        "      <td>  12</td>\n",
        "      <td> 0</td>\n",
        "    </tr>\n",
        "    <tr>\n",
        "      <th>25 </th>\n",
        "      <td>  4.2</td>\n",
        "      <td>    KJ Coetzer</td>\n",
        "      <td> 0</td>\n",
        "      <td> Izatullah Dawlatzai</td>\n",
        "      <td> 0</td>\n",
        "      <td>    CS MacLeod</td>\n",
        "      <td> 0</td>\n",
        "      <td> False</td>\n",
        "      <td>  12</td>\n",
        "      <td> 0</td>\n",
        "    </tr>\n",
        "    <tr>\n",
        "      <th>26 </th>\n",
        "      <td>  4.3</td>\n",
        "      <td>    KJ Coetzer</td>\n",
        "      <td> 0</td>\n",
        "      <td> Izatullah Dawlatzai</td>\n",
        "      <td> 0</td>\n",
        "      <td>    CS MacLeod</td>\n",
        "      <td> 0</td>\n",
        "      <td> False</td>\n",
        "      <td>  12</td>\n",
        "      <td> 0</td>\n",
        "    </tr>\n",
        "    <tr>\n",
        "      <th>27 </th>\n",
        "      <td>  4.4</td>\n",
        "      <td>    KJ Coetzer</td>\n",
        "      <td> 0</td>\n",
        "      <td> Izatullah Dawlatzai</td>\n",
        "      <td> 0</td>\n",
        "      <td>    CS MacLeod</td>\n",
        "      <td> 0</td>\n",
        "      <td> False</td>\n",
        "      <td>  12</td>\n",
        "      <td> 0</td>\n",
        "    </tr>\n",
        "    <tr>\n",
        "      <th>28 </th>\n",
        "      <td>  4.5</td>\n",
        "      <td>    KJ Coetzer</td>\n",
        "      <td> 0</td>\n",
        "      <td> Izatullah Dawlatzai</td>\n",
        "      <td> 0</td>\n",
        "      <td>    CS MacLeod</td>\n",
        "      <td> 0</td>\n",
        "      <td> False</td>\n",
        "      <td>  12</td>\n",
        "      <td> 0</td>\n",
        "    </tr>\n",
        "    <tr>\n",
        "      <th>29 </th>\n",
        "      <td>  4.6</td>\n",
        "      <td>    KJ Coetzer</td>\n",
        "      <td> 4</td>\n",
        "      <td> Izatullah Dawlatzai</td>\n",
        "      <td> 0</td>\n",
        "      <td>    CS MacLeod</td>\n",
        "      <td> 4</td>\n",
        "      <td> False</td>\n",
        "      <td>  16</td>\n",
        "      <td> 0</td>\n",
        "    </tr>\n",
        "    <tr>\n",
        "      <th>...</th>\n",
        "      <td>...</td>\n",
        "      <td>...</td>\n",
        "      <td>...</td>\n",
        "      <td>...</td>\n",
        "      <td>...</td>\n",
        "      <td>...</td>\n",
        "      <td>...</td>\n",
        "      <td>...</td>\n",
        "      <td>...</td>\n",
        "      <td>...</td>\n",
        "    </tr>\n",
        "    <tr>\n",
        "      <th>275</th>\n",
        "      <td> 45.2</td>\n",
        "      <td>      JH Davey</td>\n",
        "      <td> 1</td>\n",
        "      <td> Izatullah Dawlatzai</td>\n",
        "      <td> 0</td>\n",
        "      <td> RD Berrington</td>\n",
        "      <td> 1</td>\n",
        "      <td> False</td>\n",
        "      <td> 179</td>\n",
        "      <td> 6</td>\n",
        "    </tr>\n",
        "    <tr>\n",
        "      <th>276</th>\n",
        "      <td> 45.3</td>\n",
        "      <td> RD Berrington</td>\n",
        "      <td> 1</td>\n",
        "      <td> Izatullah Dawlatzai</td>\n",
        "      <td> 0</td>\n",
        "      <td>      JH Davey</td>\n",
        "      <td> 1</td>\n",
        "      <td> False</td>\n",
        "      <td> 180</td>\n",
        "      <td> 6</td>\n",
        "    </tr>\n",
        "    <tr>\n",
        "      <th>277</th>\n",
        "      <td> 45.4</td>\n",
        "      <td>      JH Davey</td>\n",
        "      <td> 0</td>\n",
        "      <td> Izatullah Dawlatzai</td>\n",
        "      <td> 0</td>\n",
        "      <td> RD Berrington</td>\n",
        "      <td> 0</td>\n",
        "      <td> False</td>\n",
        "      <td> 180</td>\n",
        "      <td> 6</td>\n",
        "    </tr>\n",
        "    <tr>\n",
        "      <th>278</th>\n",
        "      <td> 45.5</td>\n",
        "      <td>      JH Davey</td>\n",
        "      <td> 2</td>\n",
        "      <td> Izatullah Dawlatzai</td>\n",
        "      <td> 0</td>\n",
        "      <td> RD Berrington</td>\n",
        "      <td> 2</td>\n",
        "      <td> False</td>\n",
        "      <td> 182</td>\n",
        "      <td> 6</td>\n",
        "    </tr>\n",
        "    <tr>\n",
        "      <th>279</th>\n",
        "      <td> 45.6</td>\n",
        "      <td>      JH Davey</td>\n",
        "      <td> 1</td>\n",
        "      <td> Izatullah Dawlatzai</td>\n",
        "      <td> 0</td>\n",
        "      <td> RD Berrington</td>\n",
        "      <td> 1</td>\n",
        "      <td> False</td>\n",
        "      <td> 183</td>\n",
        "      <td> 6</td>\n",
        "    </tr>\n",
        "    <tr>\n",
        "      <th>280</th>\n",
        "      <td> 46.1</td>\n",
        "      <td>      JH Davey</td>\n",
        "      <td> 1</td>\n",
        "      <td>          Aftab Alam</td>\n",
        "      <td> 0</td>\n",
        "      <td> RD Berrington</td>\n",
        "      <td> 1</td>\n",
        "      <td> False</td>\n",
        "      <td> 184</td>\n",
        "      <td> 6</td>\n",
        "    </tr>\n",
        "    <tr>\n",
        "      <th>281</th>\n",
        "      <td> 46.2</td>\n",
        "      <td> RD Berrington</td>\n",
        "      <td> 1</td>\n",
        "      <td>          Aftab Alam</td>\n",
        "      <td> 0</td>\n",
        "      <td>      JH Davey</td>\n",
        "      <td> 1</td>\n",
        "      <td> False</td>\n",
        "      <td> 185</td>\n",
        "      <td> 6</td>\n",
        "    </tr>\n",
        "    <tr>\n",
        "      <th>282</th>\n",
        "      <td> 46.3</td>\n",
        "      <td>      JH Davey</td>\n",
        "      <td> 2</td>\n",
        "      <td>          Aftab Alam</td>\n",
        "      <td> 0</td>\n",
        "      <td> RD Berrington</td>\n",
        "      <td> 2</td>\n",
        "      <td> False</td>\n",
        "      <td> 187</td>\n",
        "      <td> 6</td>\n",
        "    </tr>\n",
        "    <tr>\n",
        "      <th>283</th>\n",
        "      <td> 46.4</td>\n",
        "      <td>      JH Davey</td>\n",
        "      <td> 4</td>\n",
        "      <td>          Aftab Alam</td>\n",
        "      <td> 1</td>\n",
        "      <td> RD Berrington</td>\n",
        "      <td> 5</td>\n",
        "      <td> False</td>\n",
        "      <td> 192</td>\n",
        "      <td> 6</td>\n",
        "    </tr>\n",
        "    <tr>\n",
        "      <th>284</th>\n",
        "      <td> 46.5</td>\n",
        "      <td>      JH Davey</td>\n",
        "      <td> 1</td>\n",
        "      <td>          Aftab Alam</td>\n",
        "      <td> 0</td>\n",
        "      <td> RD Berrington</td>\n",
        "      <td> 1</td>\n",
        "      <td> False</td>\n",
        "      <td> 193</td>\n",
        "      <td> 6</td>\n",
        "    </tr>\n",
        "    <tr>\n",
        "      <th>285</th>\n",
        "      <td> 46.6</td>\n",
        "      <td> RD Berrington</td>\n",
        "      <td> 0</td>\n",
        "      <td>          Aftab Alam</td>\n",
        "      <td> 0</td>\n",
        "      <td>      JH Davey</td>\n",
        "      <td> 0</td>\n",
        "      <td> False</td>\n",
        "      <td> 193</td>\n",
        "      <td> 6</td>\n",
        "    </tr>\n",
        "    <tr>\n",
        "      <th>286</th>\n",
        "      <td> 46.7</td>\n",
        "      <td> RD Berrington</td>\n",
        "      <td> 1</td>\n",
        "      <td>          Aftab Alam</td>\n",
        "      <td> 0</td>\n",
        "      <td>      JH Davey</td>\n",
        "      <td> 1</td>\n",
        "      <td> False</td>\n",
        "      <td> 194</td>\n",
        "      <td> 6</td>\n",
        "    </tr>\n",
        "    <tr>\n",
        "      <th>287</th>\n",
        "      <td> 47.1</td>\n",
        "      <td> RD Berrington</td>\n",
        "      <td> 2</td>\n",
        "      <td> Izatullah Dawlatzai</td>\n",
        "      <td> 0</td>\n",
        "      <td>      JH Davey</td>\n",
        "      <td> 2</td>\n",
        "      <td> False</td>\n",
        "      <td> 196</td>\n",
        "      <td> 6</td>\n",
        "    </tr>\n",
        "    <tr>\n",
        "      <th>288</th>\n",
        "      <td> 47.2</td>\n",
        "      <td> RD Berrington</td>\n",
        "      <td> 1</td>\n",
        "      <td> Izatullah Dawlatzai</td>\n",
        "      <td> 0</td>\n",
        "      <td>      JH Davey</td>\n",
        "      <td> 1</td>\n",
        "      <td> False</td>\n",
        "      <td> 197</td>\n",
        "      <td> 6</td>\n",
        "    </tr>\n",
        "    <tr>\n",
        "      <th>289</th>\n",
        "      <td> 47.3</td>\n",
        "      <td>      JH Davey</td>\n",
        "      <td> 4</td>\n",
        "      <td> Izatullah Dawlatzai</td>\n",
        "      <td> 0</td>\n",
        "      <td> RD Berrington</td>\n",
        "      <td> 4</td>\n",
        "      <td> False</td>\n",
        "      <td> 201</td>\n",
        "      <td> 6</td>\n",
        "    </tr>\n",
        "    <tr>\n",
        "      <th>290</th>\n",
        "      <td> 47.4</td>\n",
        "      <td>      JH Davey</td>\n",
        "      <td> 0</td>\n",
        "      <td> Izatullah Dawlatzai</td>\n",
        "      <td> 1</td>\n",
        "      <td> RD Berrington</td>\n",
        "      <td> 1</td>\n",
        "      <td> False</td>\n",
        "      <td> 202</td>\n",
        "      <td> 6</td>\n",
        "    </tr>\n",
        "    <tr>\n",
        "      <th>291</th>\n",
        "      <td> 47.5</td>\n",
        "      <td> RD Berrington</td>\n",
        "      <td> 1</td>\n",
        "      <td> Izatullah Dawlatzai</td>\n",
        "      <td> 0</td>\n",
        "      <td>      JH Davey</td>\n",
        "      <td> 1</td>\n",
        "      <td> False</td>\n",
        "      <td> 203</td>\n",
        "      <td> 6</td>\n",
        "    </tr>\n",
        "    <tr>\n",
        "      <th>292</th>\n",
        "      <td> 47.6</td>\n",
        "      <td>      JH Davey</td>\n",
        "      <td> 0</td>\n",
        "      <td> Izatullah Dawlatzai</td>\n",
        "      <td> 0</td>\n",
        "      <td> RD Berrington</td>\n",
        "      <td> 0</td>\n",
        "      <td> False</td>\n",
        "      <td> 203</td>\n",
        "      <td> 6</td>\n",
        "    </tr>\n",
        "    <tr>\n",
        "      <th>293</th>\n",
        "      <td> 48.1</td>\n",
        "      <td> RD Berrington</td>\n",
        "      <td> 1</td>\n",
        "      <td>          Aftab Alam</td>\n",
        "      <td> 0</td>\n",
        "      <td>      JH Davey</td>\n",
        "      <td> 1</td>\n",
        "      <td> False</td>\n",
        "      <td> 204</td>\n",
        "      <td> 6</td>\n",
        "    </tr>\n",
        "    <tr>\n",
        "      <th>294</th>\n",
        "      <td> 48.2</td>\n",
        "      <td>      JH Davey</td>\n",
        "      <td> 2</td>\n",
        "      <td>          Aftab Alam</td>\n",
        "      <td> 0</td>\n",
        "      <td> RD Berrington</td>\n",
        "      <td> 2</td>\n",
        "      <td> False</td>\n",
        "      <td> 206</td>\n",
        "      <td> 6</td>\n",
        "    </tr>\n",
        "    <tr>\n",
        "      <th>295</th>\n",
        "      <td> 48.3</td>\n",
        "      <td>      JH Davey</td>\n",
        "      <td> 1</td>\n",
        "      <td>          Aftab Alam</td>\n",
        "      <td> 0</td>\n",
        "      <td> RD Berrington</td>\n",
        "      <td> 1</td>\n",
        "      <td> False</td>\n",
        "      <td> 207</td>\n",
        "      <td> 6</td>\n",
        "    </tr>\n",
        "    <tr>\n",
        "      <th>296</th>\n",
        "      <td> 48.4</td>\n",
        "      <td> RD Berrington</td>\n",
        "      <td> 0</td>\n",
        "      <td>          Aftab Alam</td>\n",
        "      <td> 0</td>\n",
        "      <td>      JH Davey</td>\n",
        "      <td> 0</td>\n",
        "      <td> False</td>\n",
        "      <td> 207</td>\n",
        "      <td> 6</td>\n",
        "    </tr>\n",
        "    <tr>\n",
        "      <th>297</th>\n",
        "      <td> 48.5</td>\n",
        "      <td> RD Berrington</td>\n",
        "      <td> 0</td>\n",
        "      <td>          Aftab Alam</td>\n",
        "      <td> 0</td>\n",
        "      <td>      JH Davey</td>\n",
        "      <td> 0</td>\n",
        "      <td>  True</td>\n",
        "      <td> 207</td>\n",
        "      <td> 7</td>\n",
        "    </tr>\n",
        "    <tr>\n",
        "      <th>298</th>\n",
        "      <td> 48.6</td>\n",
        "      <td>      JH Davey</td>\n",
        "      <td> 1</td>\n",
        "      <td>          Aftab Alam</td>\n",
        "      <td> 0</td>\n",
        "      <td>      AC Evans</td>\n",
        "      <td> 1</td>\n",
        "      <td> False</td>\n",
        "      <td> 208</td>\n",
        "      <td> 7</td>\n",
        "    </tr>\n",
        "    <tr>\n",
        "      <th>299</th>\n",
        "      <td> 49.1</td>\n",
        "      <td>      JH Davey</td>\n",
        "      <td> 1</td>\n",
        "      <td>       Mohammad Nabi</td>\n",
        "      <td> 0</td>\n",
        "      <td>      AC Evans</td>\n",
        "      <td> 1</td>\n",
        "      <td> False</td>\n",
        "      <td> 209</td>\n",
        "      <td> 7</td>\n",
        "    </tr>\n",
        "    <tr>\n",
        "      <th>300</th>\n",
        "      <td> 49.2</td>\n",
        "      <td>      AC Evans</td>\n",
        "      <td> 1</td>\n",
        "      <td>       Mohammad Nabi</td>\n",
        "      <td> 0</td>\n",
        "      <td>      JH Davey</td>\n",
        "      <td> 1</td>\n",
        "      <td> False</td>\n",
        "      <td> 210</td>\n",
        "      <td> 7</td>\n",
        "    </tr>\n",
        "    <tr>\n",
        "      <th>301</th>\n",
        "      <td> 49.3</td>\n",
        "      <td>      JH Davey</td>\n",
        "      <td> 2</td>\n",
        "      <td>       Mohammad Nabi</td>\n",
        "      <td> 0</td>\n",
        "      <td>      AC Evans</td>\n",
        "      <td> 2</td>\n",
        "      <td> False</td>\n",
        "      <td> 212</td>\n",
        "      <td> 7</td>\n",
        "    </tr>\n",
        "    <tr>\n",
        "      <th>302</th>\n",
        "      <td> 49.4</td>\n",
        "      <td>      JH Davey</td>\n",
        "      <td> 1</td>\n",
        "      <td>       Mohammad Nabi</td>\n",
        "      <td> 0</td>\n",
        "      <td>      AC Evans</td>\n",
        "      <td> 1</td>\n",
        "      <td> False</td>\n",
        "      <td> 213</td>\n",
        "      <td> 7</td>\n",
        "    </tr>\n",
        "    <tr>\n",
        "      <th>303</th>\n",
        "      <td> 49.5</td>\n",
        "      <td>      AC Evans</td>\n",
        "      <td> 0</td>\n",
        "      <td>       Mohammad Nabi</td>\n",
        "      <td> 0</td>\n",
        "      <td>      JH Davey</td>\n",
        "      <td> 0</td>\n",
        "      <td> False</td>\n",
        "      <td> 213</td>\n",
        "      <td> 7</td>\n",
        "    </tr>\n",
        "    <tr>\n",
        "      <th>304</th>\n",
        "      <td> 49.6</td>\n",
        "      <td>      AC Evans</td>\n",
        "      <td> 0</td>\n",
        "      <td>       Mohammad Nabi</td>\n",
        "      <td> 0</td>\n",
        "      <td>      JH Davey</td>\n",
        "      <td> 0</td>\n",
        "      <td> False</td>\n",
        "      <td> 213</td>\n",
        "      <td> 7</td>\n",
        "    </tr>\n",
        "  </tbody>\n",
        "</table>\n",
        "<p>305 rows \u00d7 10 columns</p>\n",
        "</div>"
       ],
       "metadata": {},
       "output_type": "pyout",
       "prompt_number": 56,
       "text": [
        "     ball        batsman  batted_runs               bowler  extras  \\\n",
        "0     0.1     KJ Coetzer            0  Izatullah Dawlatzai       0   \n",
        "1     0.2     KJ Coetzer            0  Izatullah Dawlatzai       0   \n",
        "2     0.3     KJ Coetzer            4  Izatullah Dawlatzai       0   \n",
        "3     0.4     KJ Coetzer            0  Izatullah Dawlatzai       0   \n",
        "4     0.5     KJ Coetzer            0  Izatullah Dawlatzai       0   \n",
        "5     0.6     KJ Coetzer            1  Izatullah Dawlatzai       0   \n",
        "6     1.1     KJ Coetzer            0           Aftab Alam       0   \n",
        "7     1.2     KJ Coetzer            4           Aftab Alam       0   \n",
        "8     1.3     KJ Coetzer            0           Aftab Alam       0   \n",
        "9     1.4     KJ Coetzer            1           Aftab Alam       0   \n",
        "10    1.5     CS MacLeod            0           Aftab Alam       0   \n",
        "11    1.6     CS MacLeod            0           Aftab Alam       0   \n",
        "12    2.1     KJ Coetzer            0  Izatullah Dawlatzai       0   \n",
        "13    2.2     KJ Coetzer            0  Izatullah Dawlatzai       0   \n",
        "14    2.3     KJ Coetzer            0  Izatullah Dawlatzai       0   \n",
        "15    2.4     KJ Coetzer            0  Izatullah Dawlatzai       0   \n",
        "16    2.5     KJ Coetzer            0  Izatullah Dawlatzai       0   \n",
        "17    2.6     KJ Coetzer            0  Izatullah Dawlatzai       0   \n",
        "18    3.1     CS MacLeod            0           Aftab Alam       0   \n",
        "19    3.2     CS MacLeod            0           Aftab Alam       0   \n",
        "20    3.3     CS MacLeod            0           Aftab Alam       0   \n",
        "21    3.4     CS MacLeod            0           Aftab Alam       0   \n",
        "22    3.5     CS MacLeod            0           Aftab Alam       0   \n",
        "23    3.6     CS MacLeod            0           Aftab Alam       0   \n",
        "24    4.1     KJ Coetzer            2  Izatullah Dawlatzai       0   \n",
        "25    4.2     KJ Coetzer            0  Izatullah Dawlatzai       0   \n",
        "26    4.3     KJ Coetzer            0  Izatullah Dawlatzai       0   \n",
        "27    4.4     KJ Coetzer            0  Izatullah Dawlatzai       0   \n",
        "28    4.5     KJ Coetzer            0  Izatullah Dawlatzai       0   \n",
        "29    4.6     KJ Coetzer            4  Izatullah Dawlatzai       0   \n",
        "..    ...            ...          ...                  ...     ...   \n",
        "275  45.2       JH Davey            1  Izatullah Dawlatzai       0   \n",
        "276  45.3  RD Berrington            1  Izatullah Dawlatzai       0   \n",
        "277  45.4       JH Davey            0  Izatullah Dawlatzai       0   \n",
        "278  45.5       JH Davey            2  Izatullah Dawlatzai       0   \n",
        "279  45.6       JH Davey            1  Izatullah Dawlatzai       0   \n",
        "280  46.1       JH Davey            1           Aftab Alam       0   \n",
        "281  46.2  RD Berrington            1           Aftab Alam       0   \n",
        "282  46.3       JH Davey            2           Aftab Alam       0   \n",
        "283  46.4       JH Davey            4           Aftab Alam       1   \n",
        "284  46.5       JH Davey            1           Aftab Alam       0   \n",
        "285  46.6  RD Berrington            0           Aftab Alam       0   \n",
        "286  46.7  RD Berrington            1           Aftab Alam       0   \n",
        "287  47.1  RD Berrington            2  Izatullah Dawlatzai       0   \n",
        "288  47.2  RD Berrington            1  Izatullah Dawlatzai       0   \n",
        "289  47.3       JH Davey            4  Izatullah Dawlatzai       0   \n",
        "290  47.4       JH Davey            0  Izatullah Dawlatzai       1   \n",
        "291  47.5  RD Berrington            1  Izatullah Dawlatzai       0   \n",
        "292  47.6       JH Davey            0  Izatullah Dawlatzai       0   \n",
        "293  48.1  RD Berrington            1           Aftab Alam       0   \n",
        "294  48.2       JH Davey            2           Aftab Alam       0   \n",
        "295  48.3       JH Davey            1           Aftab Alam       0   \n",
        "296  48.4  RD Berrington            0           Aftab Alam       0   \n",
        "297  48.5  RD Berrington            0           Aftab Alam       0   \n",
        "298  48.6       JH Davey            1           Aftab Alam       0   \n",
        "299  49.1       JH Davey            1        Mohammad Nabi       0   \n",
        "300  49.2       AC Evans            1        Mohammad Nabi       0   \n",
        "301  49.3       JH Davey            2        Mohammad Nabi       0   \n",
        "302  49.4       JH Davey            1        Mohammad Nabi       0   \n",
        "303  49.5       AC Evans            0        Mohammad Nabi       0   \n",
        "304  49.6       AC Evans            0        Mohammad Nabi       0   \n",
        "\n",
        "       non_striker  total_runs wicket  innings_total  wickets_fallen  \n",
        "0       CS MacLeod           0  False              0               0  \n",
        "1       CS MacLeod           0  False              0               0  \n",
        "2       CS MacLeod           4  False              4               0  \n",
        "3       CS MacLeod           0  False              4               0  \n",
        "4       CS MacLeod           0  False              4               0  \n",
        "5       CS MacLeod           1  False              5               0  \n",
        "6       CS MacLeod           0  False              5               0  \n",
        "7       CS MacLeod           4  False              9               0  \n",
        "8       CS MacLeod           0  False              9               0  \n",
        "9       CS MacLeod           1  False             10               0  \n",
        "10      KJ Coetzer           0  False             10               0  \n",
        "11      KJ Coetzer           0  False             10               0  \n",
        "12      CS MacLeod           0  False             10               0  \n",
        "13      CS MacLeod           0  False             10               0  \n",
        "14      CS MacLeod           0  False             10               0  \n",
        "15      CS MacLeod           0  False             10               0  \n",
        "16      CS MacLeod           0  False             10               0  \n",
        "17      CS MacLeod           0  False             10               0  \n",
        "18      KJ Coetzer           0  False             10               0  \n",
        "19      KJ Coetzer           0  False             10               0  \n",
        "20      KJ Coetzer           0  False             10               0  \n",
        "21      KJ Coetzer           0  False             10               0  \n",
        "22      KJ Coetzer           0  False             10               0  \n",
        "23      KJ Coetzer           0  False             10               0  \n",
        "24      CS MacLeod           2  False             12               0  \n",
        "25      CS MacLeod           0  False             12               0  \n",
        "26      CS MacLeod           0  False             12               0  \n",
        "27      CS MacLeod           0  False             12               0  \n",
        "28      CS MacLeod           0  False             12               0  \n",
        "29      CS MacLeod           4  False             16               0  \n",
        "..             ...         ...    ...            ...             ...  \n",
        "275  RD Berrington           1  False            179               6  \n",
        "276       JH Davey           1  False            180               6  \n",
        "277  RD Berrington           0  False            180               6  \n",
        "278  RD Berrington           2  False            182               6  \n",
        "279  RD Berrington           1  False            183               6  \n",
        "280  RD Berrington           1  False            184               6  \n",
        "281       JH Davey           1  False            185               6  \n",
        "282  RD Berrington           2  False            187               6  \n",
        "283  RD Berrington           5  False            192               6  \n",
        "284  RD Berrington           1  False            193               6  \n",
        "285       JH Davey           0  False            193               6  \n",
        "286       JH Davey           1  False            194               6  \n",
        "287       JH Davey           2  False            196               6  \n",
        "288       JH Davey           1  False            197               6  \n",
        "289  RD Berrington           4  False            201               6  \n",
        "290  RD Berrington           1  False            202               6  \n",
        "291       JH Davey           1  False            203               6  \n",
        "292  RD Berrington           0  False            203               6  \n",
        "293       JH Davey           1  False            204               6  \n",
        "294  RD Berrington           2  False            206               6  \n",
        "295  RD Berrington           1  False            207               6  \n",
        "296       JH Davey           0  False            207               6  \n",
        "297       JH Davey           0   True            207               7  \n",
        "298       AC Evans           1  False            208               7  \n",
        "299       AC Evans           1  False            209               7  \n",
        "300       JH Davey           1  False            210               7  \n",
        "301       AC Evans           2  False            212               7  \n",
        "302       AC Evans           1  False            213               7  \n",
        "303       JH Davey           0  False            213               7  \n",
        "304       JH Davey           0  False            213               7  \n",
        "\n",
        "[305 rows x 10 columns]"
       ]
      }
     ],
     "prompt_number": 56
    },
    {
     "cell_type": "code",
     "collapsed": false,
     "input": [],
     "language": "python",
     "metadata": {},
     "outputs": []
    }
   ],
   "metadata": {}
  }
 ]
}