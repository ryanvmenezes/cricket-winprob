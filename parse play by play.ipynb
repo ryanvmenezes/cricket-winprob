{
 "cells": [
  {
   "cell_type": "code",
   "execution_count": 1,
   "metadata": {
    "collapsed": false
   },
   "outputs": [],
   "source": [
    "import pandas as pd\n",
    "import yaml\n",
    "import numpy as np"
   ]
  },
  {
   "cell_type": "code",
   "execution_count": 2,
   "metadata": {
    "collapsed": false
   },
   "outputs": [],
   "source": [
    "with open('812645.yaml','r') as file:\n",
    "    game = yaml.load(file)"
   ]
  },
  {
   "cell_type": "code",
   "execution_count": 3,
   "metadata": {
    "collapsed": false
   },
   "outputs": [
    {
     "data": {
      "text/plain": [
       "{'city': 'Abu Dhabi',\n",
       " 'dates': [datetime.date(2015, 1, 14)],\n",
       " 'match_type': 'ODI',\n",
       " 'neutral_venue': 1,\n",
       " 'outcome': {'by': {'runs': 150}, 'winner': 'Scotland'},\n",
       " 'overs': 50,\n",
       " 'player_of_match': ['JH Davey'],\n",
       " 'teams': ['Afghanistan', 'Scotland'],\n",
       " 'toss': {'decision': 'bat', 'winner': 'Scotland'},\n",
       " 'umpires': ['VA Kulkarni', 'Sharfuddoula'],\n",
       " 'venue': 'Sheikh Zayed Stadium'}"
      ]
     },
     "execution_count": 3,
     "metadata": {},
     "output_type": "execute_result"
    }
   ],
   "source": [
    "game['info']"
   ]
  },
  {
   "cell_type": "code",
   "execution_count": 4,
   "metadata": {
    "collapsed": false
   },
   "outputs": [
    {
     "data": {
      "text/plain": [
       "True"
      ]
     },
     "execution_count": 4,
     "metadata": {},
     "output_type": "execute_result"
    }
   ],
   "source": [
    "bool(game['info'].get('player_of_match'))"
   ]
  },
  {
   "cell_type": "code",
   "execution_count": 5,
   "metadata": {
    "collapsed": false
   },
   "outputs": [],
   "source": [
    "def get_game_info(info_dict):\n",
    "    start_date = info_dict['dates'][0]\n",
    "    venue = info_dict['venue']\n",
    "    city = info_dict['city']\n",
    "    match_type = info_dict['match_type']\n",
    "    neutral = info_dict.get('neutral_venue',0)\n",
    "    toss_winner = info_dict['toss']['winner']\n",
    "    toss_loser = list(set(info_dict['teams']) - set([toss_winner]))[0]\n",
    "    toss_decision = info_dict['toss']['decision']\n",
    "    team_inn1 = toss_winner if toss_decision == 'bat' else toss_loser\n",
    "    team_inn2 = list(set(info_dict['teams']) - set([team_inn1]))\n",
    "    umpires = '|'.join(info_dict['umpires'])\n",
    "    man_of_match = '|'.join(info_dict['player_of_match'])\n",
    "    if info_dict.get('result') is not None:\n",
    "        match_winner = info_dict['outcome']['by']['winner']\n",
    "        win_type = info_dict['outcome']['by'].keys()[0]\n",
    "        margin = info_dict['outcome']['by'][win_type]\n",
    "    else:\n",
    "        match_winner = info_dict['result']\n",
    "        win_type = 'NA'\n",
    "        margin = 'NA'\n",
    "    overs = info_dict['overs']\n",
    "    return (start_date, city, venue, neutral, match_type, overs, team_inn1, team_inn2, toss_winner, toss_decision, \n",
    "            match_winner, win_type, win_margin, umpires, man_of_match)"
   ]
  },
  {
   "cell_type": "code",
   "execution_count": 6,
   "metadata": {
    "collapsed": false
   },
   "outputs": [
    {
     "ename": "KeyError",
     "evalue": "'wicket'",
     "output_type": "error",
     "traceback": [
      "\u001b[1;31m---------------------------------------------------------------------------\u001b[0m",
      "\u001b[1;31mKeyError\u001b[0m                                  Traceback (most recent call last)",
      "\u001b[1;32m<ipython-input-6-9c5a8586828c>\u001b[0m in \u001b[0;36m<module>\u001b[1;34m()\u001b[0m\n\u001b[1;32m----> 1\u001b[1;33m \u001b[0mgame\u001b[0m\u001b[1;33m[\u001b[0m\u001b[1;34m'innings'\u001b[0m\u001b[1;33m]\u001b[0m\u001b[1;33m[\u001b[0m\u001b[1;36m0\u001b[0m\u001b[1;33m]\u001b[0m\u001b[1;33m[\u001b[0m\u001b[1;34m'1st innings'\u001b[0m\u001b[1;33m]\u001b[0m\u001b[1;33m[\u001b[0m\u001b[1;34m'deliveries'\u001b[0m\u001b[1;33m]\u001b[0m\u001b[1;33m[\u001b[0m\u001b[1;36m32\u001b[0m\u001b[1;33m]\u001b[0m\u001b[1;33m[\u001b[0m\u001b[1;36m5.3\u001b[0m\u001b[1;33m]\u001b[0m\u001b[1;33m[\u001b[0m\u001b[1;34m'wicket'\u001b[0m\u001b[1;33m]\u001b[0m\u001b[1;33m\u001b[0m\u001b[0m\n\u001b[0m",
      "\u001b[1;31mKeyError\u001b[0m: 'wicket'"
     ]
    }
   ],
   "source": [
    "game['innings'][0]['1st innings']['deliveries'][32][5.3]['wicket']"
   ]
  },
  {
   "cell_type": "code",
   "execution_count": 7,
   "metadata": {
    "collapsed": false
   },
   "outputs": [],
   "source": [
    "ball = []\n",
    "bowler = []\n",
    "batsman = []\n",
    "non_striker = []\n",
    "batted_runs = []\n",
    "extras = []\n",
    "total_runs = []\n",
    "wickets = []"
   ]
  },
  {
   "cell_type": "code",
   "execution_count": 8,
   "metadata": {
    "collapsed": false
   },
   "outputs": [],
   "source": [
    "for b in game['innings'][0]['1st innings']['deliveries']:\n",
    "    ball_details = b[b.keys()[0]]\n",
    "    ball.append(str(b.keys()[0]))\n",
    "    bowler.append(ball_details['bowler'])\n",
    "    batsman.append(ball_details['batsman'])\n",
    "    non_striker.append(ball_details['non_striker'])\n",
    "    batted_runs.append(ball_details['runs']['batsman'])\n",
    "    extras.append(ball_details['runs']['extras'])\n",
    "    total_runs.append(ball_details['runs']['total'])\n",
    "    try:\n",
    "        ball_details['wicket']\n",
    "        wickets.append(True)\n",
    "    except KeyError:\n",
    "        wickets.append(False)"
   ]
  },
  {
   "cell_type": "code",
   "execution_count": 9,
   "metadata": {
    "collapsed": false
   },
   "outputs": [],
   "source": [
    "pbyp = pd.DataFrame({'ball':ball,\n",
    "                     'bowler':bowler,\n",
    "                     'batsman':batsman,\n",
    "                     'non_striker':non_striker,\n",
    "                     'batted_runs':batted_runs,\n",
    "                     'extras':extras,\n",
    "                     'total_runs':total_runs,\n",
    "                     'wicket':wickets})"
   ]
  },
  {
   "cell_type": "code",
   "execution_count": 10,
   "metadata": {
    "collapsed": false
   },
   "outputs": [],
   "source": [
    "pbyp['innings_total'] = np.cumsum(pbyp.total_runs)\n",
    "pbyp['wickets_fallen'] = np.cumsum(pbyp.wicket)"
   ]
  },
  {
   "cell_type": "code",
   "execution_count": 11,
   "metadata": {
    "collapsed": false
   },
   "outputs": [
    {
     "data": {
      "text/html": [
       "<div>\n",
       "<table border=\"1\" class=\"dataframe\">\n",
       "  <thead>\n",
       "    <tr style=\"text-align: right;\">\n",
       "      <th></th>\n",
       "      <th>ball</th>\n",
       "      <th>batsman</th>\n",
       "      <th>batted_runs</th>\n",
       "      <th>bowler</th>\n",
       "      <th>extras</th>\n",
       "      <th>non_striker</th>\n",
       "      <th>total_runs</th>\n",
       "      <th>wicket</th>\n",
       "      <th>innings_total</th>\n",
       "      <th>wickets_fallen</th>\n",
       "    </tr>\n",
       "  </thead>\n",
       "  <tbody>\n",
       "    <tr>\n",
       "      <th>0</th>\n",
       "      <td>0.1</td>\n",
       "      <td>KJ Coetzer</td>\n",
       "      <td>0</td>\n",
       "      <td>Izatullah Dawlatzai</td>\n",
       "      <td>0</td>\n",
       "      <td>CS MacLeod</td>\n",
       "      <td>0</td>\n",
       "      <td>False</td>\n",
       "      <td>0</td>\n",
       "      <td>0</td>\n",
       "    </tr>\n",
       "    <tr>\n",
       "      <th>1</th>\n",
       "      <td>0.2</td>\n",
       "      <td>KJ Coetzer</td>\n",
       "      <td>0</td>\n",
       "      <td>Izatullah Dawlatzai</td>\n",
       "      <td>0</td>\n",
       "      <td>CS MacLeod</td>\n",
       "      <td>0</td>\n",
       "      <td>False</td>\n",
       "      <td>0</td>\n",
       "      <td>0</td>\n",
       "    </tr>\n",
       "    <tr>\n",
       "      <th>2</th>\n",
       "      <td>0.3</td>\n",
       "      <td>KJ Coetzer</td>\n",
       "      <td>4</td>\n",
       "      <td>Izatullah Dawlatzai</td>\n",
       "      <td>0</td>\n",
       "      <td>CS MacLeod</td>\n",
       "      <td>4</td>\n",
       "      <td>False</td>\n",
       "      <td>4</td>\n",
       "      <td>0</td>\n",
       "    </tr>\n",
       "    <tr>\n",
       "      <th>3</th>\n",
       "      <td>0.4</td>\n",
       "      <td>KJ Coetzer</td>\n",
       "      <td>0</td>\n",
       "      <td>Izatullah Dawlatzai</td>\n",
       "      <td>0</td>\n",
       "      <td>CS MacLeod</td>\n",
       "      <td>0</td>\n",
       "      <td>False</td>\n",
       "      <td>4</td>\n",
       "      <td>0</td>\n",
       "    </tr>\n",
       "    <tr>\n",
       "      <th>4</th>\n",
       "      <td>0.5</td>\n",
       "      <td>KJ Coetzer</td>\n",
       "      <td>0</td>\n",
       "      <td>Izatullah Dawlatzai</td>\n",
       "      <td>0</td>\n",
       "      <td>CS MacLeod</td>\n",
       "      <td>0</td>\n",
       "      <td>False</td>\n",
       "      <td>4</td>\n",
       "      <td>0</td>\n",
       "    </tr>\n",
       "  </tbody>\n",
       "</table>\n",
       "</div>"
      ],
      "text/plain": [
       "  ball     batsman  batted_runs               bowler  extras non_striker  \\\n",
       "0  0.1  KJ Coetzer            0  Izatullah Dawlatzai       0  CS MacLeod   \n",
       "1  0.2  KJ Coetzer            0  Izatullah Dawlatzai       0  CS MacLeod   \n",
       "2  0.3  KJ Coetzer            4  Izatullah Dawlatzai       0  CS MacLeod   \n",
       "3  0.4  KJ Coetzer            0  Izatullah Dawlatzai       0  CS MacLeod   \n",
       "4  0.5  KJ Coetzer            0  Izatullah Dawlatzai       0  CS MacLeod   \n",
       "\n",
       "   total_runs wicket  innings_total  wickets_fallen  \n",
       "0           0  False              0               0  \n",
       "1           0  False              0               0  \n",
       "2           4  False              4               0  \n",
       "3           0  False              4               0  \n",
       "4           0  False              4               0  "
      ]
     },
     "execution_count": 11,
     "metadata": {},
     "output_type": "execute_result"
    }
   ],
   "source": [
    "pbyp.head()"
   ]
  },
  {
   "cell_type": "code",
   "execution_count": null,
   "metadata": {
    "collapsed": false
   },
   "outputs": [],
   "source": []
  }
 ],
 "metadata": {
  "kernelspec": {
   "display_name": "Python 2",
   "language": "python",
   "name": "python2"
  },
  "language_info": {
   "codemirror_mode": {
    "name": "ipython",
    "version": 2
   },
   "file_extension": ".py",
   "mimetype": "text/x-python",
   "name": "python",
   "nbconvert_exporter": "python",
   "pygments_lexer": "ipython2",
   "version": "2.7.9"
  }
 },
 "nbformat": 4,
 "nbformat_minor": 0
}
