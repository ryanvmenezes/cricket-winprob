{
 "cells": [
  {
   "cell_type": "code",
   "execution_count": 1,
   "metadata": {
    "collapsed": false
   },
   "outputs": [],
   "source": [
    "import pandas as pd\n",
    "import yaml\n",
    "import numpy as np\n",
    "import matplotlib.pyplot as plt\n",
    "%matplotlib inline"
   ]
  },
  {
   "cell_type": "code",
   "execution_count": 2,
   "metadata": {
    "collapsed": false,
    "scrolled": true
   },
   "outputs": [],
   "source": [
    "with open('odis/656423.yaml','r') as file:\n",
    "    game = yaml.load(file)"
   ]
  },
  {
   "cell_type": "code",
   "execution_count": 3,
   "metadata": {
    "collapsed": false
   },
   "outputs": [
    {
     "data": {
      "text/plain": [
       "['info', 'innings', 'meta']"
      ]
     },
     "execution_count": 3,
     "metadata": {},
     "output_type": "execute_result"
    }
   ],
   "source": [
    "game.keys()"
   ]
  },
  {
   "cell_type": "code",
   "execution_count": 4,
   "metadata": {
    "collapsed": false
   },
   "outputs": [
    {
     "data": {
      "text/plain": [
       "{'dates': [datetime.date(2015, 2, 22)],\n",
       " 'match_type': 'ODI',\n",
       " 'neutral_venue': 1,\n",
       " 'outcome': {'by': {'runs': 130}, 'winner': 'India'},\n",
       " 'overs': 50,\n",
       " 'player_of_match': ['S Dhawan'],\n",
       " 'teams': ['India', 'South Africa'],\n",
       " 'toss': {'decision': 'bat', 'winner': 'India'},\n",
       " 'umpires': ['Aleem Dar', 'RA Kettleborough'],\n",
       " 'venue': 'Melbourne Cricket Ground'}"
      ]
     },
     "execution_count": 4,
     "metadata": {},
     "output_type": "execute_result"
    }
   ],
   "source": [
    "game['info']"
   ]
  },
  {
   "cell_type": "code",
   "execution_count": 5,
   "metadata": {
    "collapsed": false
   },
   "outputs": [
    {
     "data": {
      "text/plain": [
       "True"
      ]
     },
     "execution_count": 5,
     "metadata": {},
     "output_type": "execute_result"
    }
   ],
   "source": [
    "bool(game['info'].get('player_of_match'))"
   ]
  },
  {
   "cell_type": "code",
   "execution_count": 6,
   "metadata": {
    "collapsed": false
   },
   "outputs": [],
   "source": [
    "def get_game_info(info_dict):\n",
    "    start_date = info_dict['dates'][0]\n",
    "    venue = info_dict['venue']\n",
    "    city = info_dict['city']\n",
    "    match_type = info_dict['match_type']\n",
    "    neutral = info_dict.get('neutral_venue',0)\n",
    "    toss_winner = info_dict['toss']['winner']\n",
    "    toss_loser = list(set(info_dict['teams']) - set([toss_winner]))[0]\n",
    "    toss_decision = info_dict['toss']['decision']\n",
    "    team_inn1 = toss_winner if toss_decision == 'bat' else toss_loser\n",
    "    team_inn2 = list(set(info_dict['teams']) - set([team_inn1]))\n",
    "    umpires = '|'.join(info_dict['umpires'])\n",
    "    man_of_match = '|'.join(info_dict['player_of_match'])\n",
    "    if info_dict.get('result') is not None:\n",
    "        match_winner = info_dict['outcome']['by']['winner']\n",
    "        win_type = info_dict['outcome']['by'].keys()[0]\n",
    "        margin = info_dict['outcome']['by'][win_type]\n",
    "    else:\n",
    "        match_winner = info_dict['result']\n",
    "        win_type = 'NA'\n",
    "        margin = 'NA'\n",
    "    overs = info_dict['overs']\n",
    "    return (start_date, city, venue, neutral, match_type, overs, team_inn1, team_inn2, toss_winner, toss_decision, \n",
    "            match_winner, win_type, win_margin, umpires, man_of_match)"
   ]
  },
  {
   "cell_type": "code",
   "execution_count": 7,
   "metadata": {
    "collapsed": false
   },
   "outputs": [],
   "source": [
    "ball = []\n",
    "bowler = []\n",
    "batsman = []\n",
    "non_striker = []\n",
    "batted_runs = []\n",
    "extras = []\n",
    "total_runs = []\n",
    "wickets = []"
   ]
  },
  {
   "cell_type": "code",
   "execution_count": 8,
   "metadata": {
    "collapsed": false
   },
   "outputs": [],
   "source": [
    "for b in game['innings'][0]['1st innings']['deliveries']:\n",
    "    ball_details = b[b.keys()[0]]\n",
    "    ball.append(str(b.keys()[0]))\n",
    "    bowler.append(ball_details['bowler'])\n",
    "    batsman.append(ball_details['batsman'])\n",
    "    non_striker.append(ball_details['non_striker'])\n",
    "    batted_runs.append(ball_details['runs']['batsman'])\n",
    "    extras.append(ball_details['runs']['extras'])\n",
    "    total_runs.append(ball_details['runs']['total'])\n",
    "    try:\n",
    "        ball_details['wicket']\n",
    "        wickets.append(True)\n",
    "    except KeyError:\n",
    "        wickets.append(False)"
   ]
  },
  {
   "cell_type": "code",
   "execution_count": 9,
   "metadata": {
    "collapsed": false
   },
   "outputs": [],
   "source": [
    "pbyp = pd.DataFrame({'ball':ball,\n",
    "                     'bowler':bowler,\n",
    "                     'batsman':batsman,\n",
    "                     'non_striker':non_striker,\n",
    "                     'batted_runs':batted_runs,\n",
    "                     'extras':extras,\n",
    "                     'total_runs':total_runs,\n",
    "                     'wicket':wickets})"
   ]
  },
  {
   "cell_type": "code",
   "execution_count": 10,
   "metadata": {
    "collapsed": false
   },
   "outputs": [],
   "source": [
    "pbyp['innings_total'] = np.cumsum(pbyp.total_runs)\n",
    "pbyp['wickets_fallen'] = np.cumsum(pbyp.wicket)"
   ]
  },
  {
   "cell_type": "code",
   "execution_count": 11,
   "metadata": {
    "collapsed": false
   },
   "outputs": [
    {
     "data": {
      "text/html": [
       "<div>\n",
       "<table border=\"1\" class=\"dataframe\">\n",
       "  <thead>\n",
       "    <tr style=\"text-align: right;\">\n",
       "      <th></th>\n",
       "      <th>ball</th>\n",
       "      <th>batsman</th>\n",
       "      <th>batted_runs</th>\n",
       "      <th>bowler</th>\n",
       "      <th>extras</th>\n",
       "      <th>non_striker</th>\n",
       "      <th>total_runs</th>\n",
       "      <th>wicket</th>\n",
       "      <th>innings_total</th>\n",
       "      <th>wickets_fallen</th>\n",
       "    </tr>\n",
       "  </thead>\n",
       "  <tbody>\n",
       "    <tr>\n",
       "      <th>0</th>\n",
       "      <td>0.1</td>\n",
       "      <td>RG Sharma</td>\n",
       "      <td>0</td>\n",
       "      <td>DW Steyn</td>\n",
       "      <td>0</td>\n",
       "      <td>S Dhawan</td>\n",
       "      <td>0</td>\n",
       "      <td>False</td>\n",
       "      <td>0</td>\n",
       "      <td>0</td>\n",
       "    </tr>\n",
       "    <tr>\n",
       "      <th>1</th>\n",
       "      <td>0.2</td>\n",
       "      <td>RG Sharma</td>\n",
       "      <td>0</td>\n",
       "      <td>DW Steyn</td>\n",
       "      <td>0</td>\n",
       "      <td>S Dhawan</td>\n",
       "      <td>0</td>\n",
       "      <td>False</td>\n",
       "      <td>0</td>\n",
       "      <td>0</td>\n",
       "    </tr>\n",
       "    <tr>\n",
       "      <th>2</th>\n",
       "      <td>0.3</td>\n",
       "      <td>RG Sharma</td>\n",
       "      <td>0</td>\n",
       "      <td>DW Steyn</td>\n",
       "      <td>0</td>\n",
       "      <td>S Dhawan</td>\n",
       "      <td>0</td>\n",
       "      <td>False</td>\n",
       "      <td>0</td>\n",
       "      <td>0</td>\n",
       "    </tr>\n",
       "    <tr>\n",
       "      <th>3</th>\n",
       "      <td>0.4</td>\n",
       "      <td>RG Sharma</td>\n",
       "      <td>0</td>\n",
       "      <td>DW Steyn</td>\n",
       "      <td>0</td>\n",
       "      <td>S Dhawan</td>\n",
       "      <td>0</td>\n",
       "      <td>False</td>\n",
       "      <td>0</td>\n",
       "      <td>0</td>\n",
       "    </tr>\n",
       "    <tr>\n",
       "      <th>4</th>\n",
       "      <td>0.5</td>\n",
       "      <td>RG Sharma</td>\n",
       "      <td>0</td>\n",
       "      <td>DW Steyn</td>\n",
       "      <td>0</td>\n",
       "      <td>S Dhawan</td>\n",
       "      <td>0</td>\n",
       "      <td>False</td>\n",
       "      <td>0</td>\n",
       "      <td>0</td>\n",
       "    </tr>\n",
       "  </tbody>\n",
       "</table>\n",
       "</div>"
      ],
      "text/plain": [
       "  ball    batsman  batted_runs    bowler  extras non_striker  total_runs  \\\n",
       "0  0.1  RG Sharma            0  DW Steyn       0    S Dhawan           0   \n",
       "1  0.2  RG Sharma            0  DW Steyn       0    S Dhawan           0   \n",
       "2  0.3  RG Sharma            0  DW Steyn       0    S Dhawan           0   \n",
       "3  0.4  RG Sharma            0  DW Steyn       0    S Dhawan           0   \n",
       "4  0.5  RG Sharma            0  DW Steyn       0    S Dhawan           0   \n",
       "\n",
       "  wicket  innings_total  wickets_fallen  \n",
       "0  False              0               0  \n",
       "1  False              0               0  \n",
       "2  False              0               0  \n",
       "3  False              0               0  \n",
       "4  False              0               0  "
      ]
     },
     "execution_count": 11,
     "metadata": {},
     "output_type": "execute_result"
    }
   ],
   "source": [
    "pbyp.head()"
   ]
  },
  {
   "cell_type": "code",
   "execution_count": 12,
   "metadata": {
    "collapsed": false
   },
   "outputs": [
    {
     "data": {
      "text/plain": [
       "[{0.1: {'batsman': 'RG Sharma',\n",
       "   'bowler': 'DW Steyn',\n",
       "   'non_striker': 'S Dhawan',\n",
       "   'runs': {'batsman': 0, 'extras': 0, 'total': 0}}},\n",
       " {0.2: {'batsman': 'RG Sharma',\n",
       "   'bowler': 'DW Steyn',\n",
       "   'non_striker': 'S Dhawan',\n",
       "   'runs': {'batsman': 0, 'extras': 0, 'total': 0}}},\n",
       " {0.3: {'batsman': 'RG Sharma',\n",
       "   'bowler': 'DW Steyn',\n",
       "   'non_striker': 'S Dhawan',\n",
       "   'runs': {'batsman': 0, 'extras': 0, 'total': 0}}},\n",
       " {0.4: {'batsman': 'RG Sharma',\n",
       "   'bowler': 'DW Steyn',\n",
       "   'non_striker': 'S Dhawan',\n",
       "   'runs': {'batsman': 0, 'extras': 0, 'total': 0}}},\n",
       " {0.5: {'batsman': 'RG Sharma',\n",
       "   'bowler': 'DW Steyn',\n",
       "   'non_striker': 'S Dhawan',\n",
       "   'runs': {'batsman': 0, 'extras': 0, 'total': 0}}}]"
      ]
     },
     "execution_count": 12,
     "metadata": {},
     "output_type": "execute_result"
    }
   ],
   "source": [
    "game['innings'][0]['1st innings']['deliveries'][:5]"
   ]
  },
  {
   "cell_type": "code",
   "execution_count": 13,
   "metadata": {
    "collapsed": false
   },
   "outputs": [],
   "source": [
    "all_balls = dict(game['innings'][0].items() + game['innings'][1].items())"
   ]
  },
  {
   "cell_type": "code",
   "execution_count": 14,
   "metadata": {
    "collapsed": false
   },
   "outputs": [
    {
     "data": {
      "text/plain": [
       "['1st innings', '2nd innings']"
      ]
     },
     "execution_count": 14,
     "metadata": {},
     "output_type": "execute_result"
    }
   ],
   "source": [
    "all_balls.keys()"
   ]
  },
  {
   "cell_type": "code",
   "execution_count": 15,
   "metadata": {
    "collapsed": false
   },
   "outputs": [
    {
     "data": {
      "text/plain": [
       "[['0', '1'], ['0', '2'], ['0', '3'], ['0', '4'], ['0', '5']]"
      ]
     },
     "execution_count": 15,
     "metadata": {},
     "output_type": "execute_result"
    }
   ],
   "source": [
    "[str(b.keys()[0]).split('.') for b in all_balls['1st innings']['deliveries']][0:5]"
   ]
  },
  {
   "cell_type": "code",
   "execution_count": 16,
   "metadata": {
    "collapsed": false
   },
   "outputs": [],
   "source": [
    "def get_ball_by_ball(innings_obj):\n",
    "    all_balls = dict(innings_obj[0].items() + innings_obj[1].items())\n",
    "    all_info = []\n",
    "    for innings in all_balls.keys():\n",
    "        batting_side = all_balls[innings]['team']\n",
    "        balls = all_balls[innings]['deliveries']\n",
    "        for b in balls:\n",
    "            ball_key = b.keys()[0]\n",
    "            ball_id = str(ball_key).split('.')\n",
    "            over_number = ball_id[0]\n",
    "            ball_in_over = ball_id[1]\n",
    "            ball_details = b[ball_key]\n",
    "            bowler = ball_details['bowler']\n",
    "            batsman = ball_details['batsman']\n",
    "            non_striker = ball_details['non_striker']\n",
    "            batted_runs = ball_details['runs']['batsman']\n",
    "            total_extras = ball_details['runs']['extras']\n",
    "            total_runs = ball_details['runs']['total']\n",
    "            if ball_details.get('extras') is not None:\n",
    "                xb = ball_details['extras'].get('byes',None)\n",
    "                xlb = ball_details['extras'].get('legbyes',None)\n",
    "                xnb = ball_details['extras'].get('noballs',None)\n",
    "                xw = ball_details['extras'].get('wides',None)\n",
    "                xpen = ball_details['extras'].get('penalty',None)\n",
    "            else:\n",
    "                xb, xlb, xnb, xw, xpen = (None,) * 5\n",
    "            non_boundary = ball_details['runs'].get('non_boundary',0)\n",
    "            if ball_details.get('wicket') is not None:\n",
    "                wicket = 1\n",
    "                kind = ball_details['wicket']['kind']\n",
    "                player_out = ball_details['wicket']['player_out']\n",
    "                fielders = '|'.join(ball_details['wicket']['fielders']) if bool(ball_details['wicket'].get('fielders')) else None\n",
    "            else:\n",
    "                wicket, kind, player_out, fielders = (None,) * 4\n",
    "            #return (innings, batting_side, over_number, ball_in_over, bowler, batsman, non_striker, batted_runs, xb, xlb, xnb, xw, xpen, total_extras, total_runs, non_boundary, wicket, kind, player_out, fielders)\n",
    "            all_info.append((innings, batting_side, over_number, ball_in_over, bowler, batsman, non_striker, batted_runs, xb, xlb, xnb, xw, xpen, total_extras, total_runs, non_boundary, wicket, kind, player_out, fielders))\n",
    "    return all_info"
   ]
  },
  {
   "cell_type": "code",
   "execution_count": 17,
   "metadata": {
    "collapsed": false
   },
   "outputs": [
    {
     "data": {
      "text/plain": [
       "556"
      ]
     },
     "execution_count": 17,
     "metadata": {},
     "output_type": "execute_result"
    }
   ],
   "source": [
    "len(get_ball_by_ball(game['innings']))"
   ]
  },
  {
   "cell_type": "code",
   "execution_count": 18,
   "metadata": {
    "collapsed": false
   },
   "outputs": [],
   "source": [
    "COLUMN_NAMES = ['game_id','innings','batting_side','over_number','ball_in_over','bowler','batsman','non_striker','batted_runs','xb','xlb','xnb','xw','xpen','total_extras','total_runs','non_boundary','wicket','kind','player_out','fielders']"
   ]
  },
  {
   "cell_type": "code",
   "execution_count": 19,
   "metadata": {
    "collapsed": false
   },
   "outputs": [],
   "source": [
    "indvsa = pd.DataFrame(get_ball_by_ball(game['innings']), columns=COLUMN_NAMES[1:])"
   ]
  },
  {
   "cell_type": "code",
   "execution_count": 20,
   "metadata": {
    "collapsed": false
   },
   "outputs": [],
   "source": [
    "pbp_ALL = pd.DataFrame(columns=COLUMN_NAMES[1:])"
   ]
  },
  {
   "cell_type": "code",
   "execution_count": 22,
   "metadata": {
    "collapsed": false
   },
   "outputs": [
    {
     "data": {
      "text/html": [
       "<div>\n",
       "<table border=\"1\" class=\"dataframe\">\n",
       "  <thead>\n",
       "    <tr style=\"text-align: right;\">\n",
       "      <th></th>\n",
       "      <th>innings</th>\n",
       "      <th>batting_side</th>\n",
       "      <th>over_number</th>\n",
       "      <th>ball_in_over</th>\n",
       "      <th>bowler</th>\n",
       "      <th>batsman</th>\n",
       "      <th>non_striker</th>\n",
       "      <th>batted_runs</th>\n",
       "      <th>xb</th>\n",
       "      <th>xlb</th>\n",
       "      <th>xnb</th>\n",
       "      <th>xw</th>\n",
       "      <th>xpen</th>\n",
       "      <th>total_extras</th>\n",
       "      <th>total_runs</th>\n",
       "      <th>non_boundary</th>\n",
       "      <th>wicket</th>\n",
       "      <th>kind</th>\n",
       "      <th>player_out</th>\n",
       "      <th>fielders</th>\n",
       "    </tr>\n",
       "  </thead>\n",
       "  <tbody>\n",
       "    <tr>\n",
       "      <th>0</th>\n",
       "      <td>1st innings</td>\n",
       "      <td>India</td>\n",
       "      <td>0</td>\n",
       "      <td>1</td>\n",
       "      <td>DW Steyn</td>\n",
       "      <td>RG Sharma</td>\n",
       "      <td>S Dhawan</td>\n",
       "      <td>0</td>\n",
       "      <td>None</td>\n",
       "      <td>NaN</td>\n",
       "      <td>NaN</td>\n",
       "      <td>NaN</td>\n",
       "      <td>None</td>\n",
       "      <td>0</td>\n",
       "      <td>0</td>\n",
       "      <td>0</td>\n",
       "      <td>NaN</td>\n",
       "      <td>None</td>\n",
       "      <td>None</td>\n",
       "      <td>None</td>\n",
       "    </tr>\n",
       "    <tr>\n",
       "      <th>1</th>\n",
       "      <td>1st innings</td>\n",
       "      <td>India</td>\n",
       "      <td>0</td>\n",
       "      <td>2</td>\n",
       "      <td>DW Steyn</td>\n",
       "      <td>RG Sharma</td>\n",
       "      <td>S Dhawan</td>\n",
       "      <td>0</td>\n",
       "      <td>None</td>\n",
       "      <td>NaN</td>\n",
       "      <td>NaN</td>\n",
       "      <td>NaN</td>\n",
       "      <td>None</td>\n",
       "      <td>0</td>\n",
       "      <td>0</td>\n",
       "      <td>0</td>\n",
       "      <td>NaN</td>\n",
       "      <td>None</td>\n",
       "      <td>None</td>\n",
       "      <td>None</td>\n",
       "    </tr>\n",
       "    <tr>\n",
       "      <th>2</th>\n",
       "      <td>1st innings</td>\n",
       "      <td>India</td>\n",
       "      <td>0</td>\n",
       "      <td>3</td>\n",
       "      <td>DW Steyn</td>\n",
       "      <td>RG Sharma</td>\n",
       "      <td>S Dhawan</td>\n",
       "      <td>0</td>\n",
       "      <td>None</td>\n",
       "      <td>NaN</td>\n",
       "      <td>NaN</td>\n",
       "      <td>NaN</td>\n",
       "      <td>None</td>\n",
       "      <td>0</td>\n",
       "      <td>0</td>\n",
       "      <td>0</td>\n",
       "      <td>NaN</td>\n",
       "      <td>None</td>\n",
       "      <td>None</td>\n",
       "      <td>None</td>\n",
       "    </tr>\n",
       "    <tr>\n",
       "      <th>3</th>\n",
       "      <td>1st innings</td>\n",
       "      <td>India</td>\n",
       "      <td>0</td>\n",
       "      <td>4</td>\n",
       "      <td>DW Steyn</td>\n",
       "      <td>RG Sharma</td>\n",
       "      <td>S Dhawan</td>\n",
       "      <td>0</td>\n",
       "      <td>None</td>\n",
       "      <td>NaN</td>\n",
       "      <td>NaN</td>\n",
       "      <td>NaN</td>\n",
       "      <td>None</td>\n",
       "      <td>0</td>\n",
       "      <td>0</td>\n",
       "      <td>0</td>\n",
       "      <td>NaN</td>\n",
       "      <td>None</td>\n",
       "      <td>None</td>\n",
       "      <td>None</td>\n",
       "    </tr>\n",
       "    <tr>\n",
       "      <th>4</th>\n",
       "      <td>1st innings</td>\n",
       "      <td>India</td>\n",
       "      <td>0</td>\n",
       "      <td>5</td>\n",
       "      <td>DW Steyn</td>\n",
       "      <td>RG Sharma</td>\n",
       "      <td>S Dhawan</td>\n",
       "      <td>0</td>\n",
       "      <td>None</td>\n",
       "      <td>NaN</td>\n",
       "      <td>NaN</td>\n",
       "      <td>NaN</td>\n",
       "      <td>None</td>\n",
       "      <td>0</td>\n",
       "      <td>0</td>\n",
       "      <td>0</td>\n",
       "      <td>NaN</td>\n",
       "      <td>None</td>\n",
       "      <td>None</td>\n",
       "      <td>None</td>\n",
       "    </tr>\n",
       "  </tbody>\n",
       "</table>\n",
       "</div>"
      ],
      "text/plain": [
       "       innings batting_side over_number ball_in_over    bowler    batsman  \\\n",
       "0  1st innings        India           0            1  DW Steyn  RG Sharma   \n",
       "1  1st innings        India           0            2  DW Steyn  RG Sharma   \n",
       "2  1st innings        India           0            3  DW Steyn  RG Sharma   \n",
       "3  1st innings        India           0            4  DW Steyn  RG Sharma   \n",
       "4  1st innings        India           0            5  DW Steyn  RG Sharma   \n",
       "\n",
       "  non_striker  batted_runs    xb  xlb  xnb  xw  xpen  total_extras  \\\n",
       "0    S Dhawan            0  None  NaN  NaN NaN  None             0   \n",
       "1    S Dhawan            0  None  NaN  NaN NaN  None             0   \n",
       "2    S Dhawan            0  None  NaN  NaN NaN  None             0   \n",
       "3    S Dhawan            0  None  NaN  NaN NaN  None             0   \n",
       "4    S Dhawan            0  None  NaN  NaN NaN  None             0   \n",
       "\n",
       "   total_runs  non_boundary  wicket  kind player_out fielders  \n",
       "0           0             0     NaN  None       None     None  \n",
       "1           0             0     NaN  None       None     None  \n",
       "2           0             0     NaN  None       None     None  \n",
       "3           0             0     NaN  None       None     None  \n",
       "4           0             0     NaN  None       None     None  "
      ]
     },
     "execution_count": 22,
     "metadata": {},
     "output_type": "execute_result"
    }
   ],
   "source": [
    "pd.concat([pbp_ALL, indvsa], axis = 0).head()"
   ]
  },
  {
   "cell_type": "code",
   "execution_count": 25,
   "metadata": {
    "collapsed": false
   },
   "outputs": [
    {
     "data": {
      "text/html": [
       "<div>\n",
       "<table border=\"1\" class=\"dataframe\">\n",
       "  <thead>\n",
       "    <tr style=\"text-align: right;\">\n",
       "      <th></th>\n",
       "      <th>game_id</th>\n",
       "      <th>innings</th>\n",
       "      <th>batting_side</th>\n",
       "      <th>over_number</th>\n",
       "      <th>ball_in_over</th>\n",
       "      <th>bowler</th>\n",
       "      <th>batsman</th>\n",
       "      <th>non_striker</th>\n",
       "      <th>batted_runs</th>\n",
       "      <th>xb</th>\n",
       "      <th>...</th>\n",
       "      <th>xnb</th>\n",
       "      <th>xw</th>\n",
       "      <th>xpen</th>\n",
       "      <th>total_extras</th>\n",
       "      <th>total_runs</th>\n",
       "      <th>non_boundary</th>\n",
       "      <th>wicket</th>\n",
       "      <th>kind</th>\n",
       "      <th>player_out</th>\n",
       "      <th>fielders</th>\n",
       "    </tr>\n",
       "  </thead>\n",
       "  <tbody>\n",
       "  </tbody>\n",
       "</table>\n",
       "<p>0 rows × 21 columns</p>\n",
       "</div>"
      ],
      "text/plain": [
       "Empty DataFrame\n",
       "Columns: [game_id, innings, batting_side, over_number, ball_in_over, bowler, batsman, non_striker, batted_runs, xb, xlb, xnb, xw, xpen, total_extras, total_runs, non_boundary, wicket, kind, player_out, fielders]\n",
       "Index: []\n",
       "\n",
       "[0 rows x 21 columns]"
      ]
     },
     "execution_count": 25,
     "metadata": {},
     "output_type": "execute_result"
    }
   ],
   "source": [
    "pd.DataFrame(None, columns = ['game_id','innings','batting_side','over_number','ball_in_over','bowler','batsman','non_striker','batted_runs','xb','xlb','xnb','xw','xpen','total_extras','total_runs','non_boundary','wicket','kind','player_out','fielders'])"
   ]
  },
  {
   "cell_type": "code",
   "execution_count": 23,
   "metadata": {
    "collapsed": false
   },
   "outputs": [
    {
     "ename": "IOError",
     "evalue": "File odi_ballbyball.csv does not exist",
     "output_type": "error",
     "traceback": [
      "\u001b[1;31m---------------------------------------------------------------------------\u001b[0m",
      "\u001b[1;31mIOError\u001b[0m                                   Traceback (most recent call last)",
      "\u001b[1;32m<ipython-input-23-a9e23421cee9>\u001b[0m in \u001b[0;36m<module>\u001b[1;34m()\u001b[0m\n\u001b[1;32m----> 1\u001b[1;33m \u001b[0mall_games\u001b[0m \u001b[1;33m=\u001b[0m \u001b[0mpd\u001b[0m\u001b[1;33m.\u001b[0m\u001b[0mread_csv\u001b[0m\u001b[1;33m(\u001b[0m\u001b[1;34m'odi_ballbyball.csv'\u001b[0m\u001b[1;33m)\u001b[0m\u001b[1;33m\u001b[0m\u001b[0m\n\u001b[0m",
      "\u001b[1;32m/usr/local/lib/python2.7/dist-packages/pandas/io/parsers.pyc\u001b[0m in \u001b[0;36mparser_f\u001b[1;34m(filepath_or_buffer, sep, dialect, compression, doublequote, escapechar, quotechar, quoting, skipinitialspace, lineterminator, header, index_col, names, prefix, skiprows, skipfooter, skip_footer, na_values, na_fvalues, true_values, false_values, delimiter, converters, dtype, usecols, engine, delim_whitespace, as_recarray, na_filter, compact_ints, use_unsigned, low_memory, buffer_lines, warn_bad_lines, error_bad_lines, keep_default_na, thousands, comment, decimal, parse_dates, keep_date_col, dayfirst, date_parser, memory_map, float_precision, nrows, iterator, chunksize, verbose, encoding, squeeze, mangle_dupe_cols, tupleize_cols, infer_datetime_format, skip_blank_lines)\u001b[0m\n\u001b[0;32m    472\u001b[0m                     skip_blank_lines=skip_blank_lines)\n\u001b[0;32m    473\u001b[0m \u001b[1;33m\u001b[0m\u001b[0m\n\u001b[1;32m--> 474\u001b[1;33m         \u001b[1;32mreturn\u001b[0m \u001b[0m_read\u001b[0m\u001b[1;33m(\u001b[0m\u001b[0mfilepath_or_buffer\u001b[0m\u001b[1;33m,\u001b[0m \u001b[0mkwds\u001b[0m\u001b[1;33m)\u001b[0m\u001b[1;33m\u001b[0m\u001b[0m\n\u001b[0m\u001b[0;32m    475\u001b[0m \u001b[1;33m\u001b[0m\u001b[0m\n\u001b[0;32m    476\u001b[0m     \u001b[0mparser_f\u001b[0m\u001b[1;33m.\u001b[0m\u001b[0m__name__\u001b[0m \u001b[1;33m=\u001b[0m \u001b[0mname\u001b[0m\u001b[1;33m\u001b[0m\u001b[0m\n",
      "\u001b[1;32m/usr/local/lib/python2.7/dist-packages/pandas/io/parsers.pyc\u001b[0m in \u001b[0;36m_read\u001b[1;34m(filepath_or_buffer, kwds)\u001b[0m\n\u001b[0;32m    248\u001b[0m \u001b[1;33m\u001b[0m\u001b[0m\n\u001b[0;32m    249\u001b[0m     \u001b[1;31m# Create the parser.\u001b[0m\u001b[1;33m\u001b[0m\u001b[1;33m\u001b[0m\u001b[0m\n\u001b[1;32m--> 250\u001b[1;33m     \u001b[0mparser\u001b[0m \u001b[1;33m=\u001b[0m \u001b[0mTextFileReader\u001b[0m\u001b[1;33m(\u001b[0m\u001b[0mfilepath_or_buffer\u001b[0m\u001b[1;33m,\u001b[0m \u001b[1;33m**\u001b[0m\u001b[0mkwds\u001b[0m\u001b[1;33m)\u001b[0m\u001b[1;33m\u001b[0m\u001b[0m\n\u001b[0m\u001b[0;32m    251\u001b[0m \u001b[1;33m\u001b[0m\u001b[0m\n\u001b[0;32m    252\u001b[0m     \u001b[1;32mif\u001b[0m \u001b[1;33m(\u001b[0m\u001b[0mnrows\u001b[0m \u001b[1;32mis\u001b[0m \u001b[1;32mnot\u001b[0m \u001b[0mNone\u001b[0m\u001b[1;33m)\u001b[0m \u001b[1;32mand\u001b[0m \u001b[1;33m(\u001b[0m\u001b[0mchunksize\u001b[0m \u001b[1;32mis\u001b[0m \u001b[1;32mnot\u001b[0m \u001b[0mNone\u001b[0m\u001b[1;33m)\u001b[0m\u001b[1;33m:\u001b[0m\u001b[1;33m\u001b[0m\u001b[0m\n",
      "\u001b[1;32m/usr/local/lib/python2.7/dist-packages/pandas/io/parsers.pyc\u001b[0m in \u001b[0;36m__init__\u001b[1;34m(self, f, engine, **kwds)\u001b[0m\n\u001b[0;32m    564\u001b[0m             \u001b[0mself\u001b[0m\u001b[1;33m.\u001b[0m\u001b[0moptions\u001b[0m\u001b[1;33m[\u001b[0m\u001b[1;34m'has_index_names'\u001b[0m\u001b[1;33m]\u001b[0m \u001b[1;33m=\u001b[0m \u001b[0mkwds\u001b[0m\u001b[1;33m[\u001b[0m\u001b[1;34m'has_index_names'\u001b[0m\u001b[1;33m]\u001b[0m\u001b[1;33m\u001b[0m\u001b[0m\n\u001b[0;32m    565\u001b[0m \u001b[1;33m\u001b[0m\u001b[0m\n\u001b[1;32m--> 566\u001b[1;33m         \u001b[0mself\u001b[0m\u001b[1;33m.\u001b[0m\u001b[0m_make_engine\u001b[0m\u001b[1;33m(\u001b[0m\u001b[0mself\u001b[0m\u001b[1;33m.\u001b[0m\u001b[0mengine\u001b[0m\u001b[1;33m)\u001b[0m\u001b[1;33m\u001b[0m\u001b[0m\n\u001b[0m\u001b[0;32m    567\u001b[0m \u001b[1;33m\u001b[0m\u001b[0m\n\u001b[0;32m    568\u001b[0m     \u001b[1;32mdef\u001b[0m \u001b[0m_get_options_with_defaults\u001b[0m\u001b[1;33m(\u001b[0m\u001b[0mself\u001b[0m\u001b[1;33m,\u001b[0m \u001b[0mengine\u001b[0m\u001b[1;33m)\u001b[0m\u001b[1;33m:\u001b[0m\u001b[1;33m\u001b[0m\u001b[0m\n",
      "\u001b[1;32m/usr/local/lib/python2.7/dist-packages/pandas/io/parsers.pyc\u001b[0m in \u001b[0;36m_make_engine\u001b[1;34m(self, engine)\u001b[0m\n\u001b[0;32m    703\u001b[0m     \u001b[1;32mdef\u001b[0m \u001b[0m_make_engine\u001b[0m\u001b[1;33m(\u001b[0m\u001b[0mself\u001b[0m\u001b[1;33m,\u001b[0m \u001b[0mengine\u001b[0m\u001b[1;33m=\u001b[0m\u001b[1;34m'c'\u001b[0m\u001b[1;33m)\u001b[0m\u001b[1;33m:\u001b[0m\u001b[1;33m\u001b[0m\u001b[0m\n\u001b[0;32m    704\u001b[0m         \u001b[1;32mif\u001b[0m \u001b[0mengine\u001b[0m \u001b[1;33m==\u001b[0m \u001b[1;34m'c'\u001b[0m\u001b[1;33m:\u001b[0m\u001b[1;33m\u001b[0m\u001b[0m\n\u001b[1;32m--> 705\u001b[1;33m             \u001b[0mself\u001b[0m\u001b[1;33m.\u001b[0m\u001b[0m_engine\u001b[0m \u001b[1;33m=\u001b[0m \u001b[0mCParserWrapper\u001b[0m\u001b[1;33m(\u001b[0m\u001b[0mself\u001b[0m\u001b[1;33m.\u001b[0m\u001b[0mf\u001b[0m\u001b[1;33m,\u001b[0m \u001b[1;33m**\u001b[0m\u001b[0mself\u001b[0m\u001b[1;33m.\u001b[0m\u001b[0moptions\u001b[0m\u001b[1;33m)\u001b[0m\u001b[1;33m\u001b[0m\u001b[0m\n\u001b[0m\u001b[0;32m    706\u001b[0m         \u001b[1;32melse\u001b[0m\u001b[1;33m:\u001b[0m\u001b[1;33m\u001b[0m\u001b[0m\n\u001b[0;32m    707\u001b[0m             \u001b[1;32mif\u001b[0m \u001b[0mengine\u001b[0m \u001b[1;33m==\u001b[0m \u001b[1;34m'python'\u001b[0m\u001b[1;33m:\u001b[0m\u001b[1;33m\u001b[0m\u001b[0m\n",
      "\u001b[1;32m/usr/local/lib/python2.7/dist-packages/pandas/io/parsers.pyc\u001b[0m in \u001b[0;36m__init__\u001b[1;34m(self, src, **kwds)\u001b[0m\n\u001b[0;32m   1070\u001b[0m         \u001b[0mkwds\u001b[0m\u001b[1;33m[\u001b[0m\u001b[1;34m'allow_leading_cols'\u001b[0m\u001b[1;33m]\u001b[0m \u001b[1;33m=\u001b[0m \u001b[0mself\u001b[0m\u001b[1;33m.\u001b[0m\u001b[0mindex_col\u001b[0m \u001b[1;32mis\u001b[0m \u001b[1;32mnot\u001b[0m \u001b[0mFalse\u001b[0m\u001b[1;33m\u001b[0m\u001b[0m\n\u001b[0;32m   1071\u001b[0m \u001b[1;33m\u001b[0m\u001b[0m\n\u001b[1;32m-> 1072\u001b[1;33m         \u001b[0mself\u001b[0m\u001b[1;33m.\u001b[0m\u001b[0m_reader\u001b[0m \u001b[1;33m=\u001b[0m \u001b[0m_parser\u001b[0m\u001b[1;33m.\u001b[0m\u001b[0mTextReader\u001b[0m\u001b[1;33m(\u001b[0m\u001b[0msrc\u001b[0m\u001b[1;33m,\u001b[0m \u001b[1;33m**\u001b[0m\u001b[0mkwds\u001b[0m\u001b[1;33m)\u001b[0m\u001b[1;33m\u001b[0m\u001b[0m\n\u001b[0m\u001b[0;32m   1073\u001b[0m \u001b[1;33m\u001b[0m\u001b[0m\n\u001b[0;32m   1074\u001b[0m         \u001b[1;31m# XXX\u001b[0m\u001b[1;33m\u001b[0m\u001b[1;33m\u001b[0m\u001b[0m\n",
      "\u001b[1;32mpandas/parser.pyx\u001b[0m in \u001b[0;36mpandas.parser.TextReader.__cinit__ (pandas/parser.c:3173)\u001b[1;34m()\u001b[0m\n",
      "\u001b[1;32mpandas/parser.pyx\u001b[0m in \u001b[0;36mpandas.parser.TextReader._setup_parser_source (pandas/parser.c:5912)\u001b[1;34m()\u001b[0m\n",
      "\u001b[1;31mIOError\u001b[0m: File odi_ballbyball.csv does not exist"
     ]
    }
   ],
   "source": [
    "all_games = pd.read_csv('odi_ballbyball.csv')"
   ]
  },
  {
   "cell_type": "code",
   "execution_count": null,
   "metadata": {
    "collapsed": false
   },
   "outputs": [],
   "source": [
    "all_games"
   ]
  },
  {
   "cell_type": "code",
   "execution_count": null,
   "metadata": {
    "collapsed": false
   },
   "outputs": [],
   "source": [
    "all_games.groupby(['innings','over_number']).total_runs.mean()*6"
   ]
  },
  {
   "cell_type": "code",
   "execution_count": null,
   "metadata": {
    "collapsed": false
   },
   "outputs": [],
   "source": [
    "all_games.groupby('over_number').inn_runs.mean()"
   ]
  },
  {
   "cell_type": "code",
   "execution_count": null,
   "metadata": {
    "collapsed": false
   },
   "outputs": [],
   "source": [
    "all_games.groupby(['innings','over_number']).inn_runs.mean().plot()"
   ]
  },
  {
   "cell_type": "code",
   "execution_count": null,
   "metadata": {
    "collapsed": false
   },
   "outputs": [],
   "source": [
    "(all_games.groupby(['innings','over_number']).total_runs.mean()*6).plot()"
   ]
  }
 ],
 "metadata": {
  "kernelspec": {
   "display_name": "Python 2",
   "language": "python",
   "name": "python2"
  },
  "language_info": {
   "codemirror_mode": {
    "name": "ipython",
    "version": 2
   },
   "file_extension": ".py",
   "mimetype": "text/x-python",
   "name": "python",
   "nbconvert_exporter": "python",
   "pygments_lexer": "ipython2",
   "version": "2.7.9"
  }
 },
 "nbformat": 4,
 "nbformat_minor": 0
}
