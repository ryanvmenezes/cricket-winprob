{
 "cells": [
  {
   "cell_type": "code",
   "execution_count": 1,
   "metadata": {
    "collapsed": false
   },
   "outputs": [],
   "source": [
    "import pandas as pd\n",
    "import numpy as np\n",
    "import matplotlib.pyplot as plt\n",
    "from __future__ import division\n",
    "%load_ext rpy2.ipython\n",
    "%matplotlib inline\n",
    "pd.set_option('display.max_columns', 1000)"
   ]
  },
  {
   "cell_type": "code",
   "execution_count": 2,
   "metadata": {
    "collapsed": false
   },
   "outputs": [],
   "source": [
    "all_games = pd.read_csv('master_data/odi_ballinfotrim.csv')"
   ]
  },
  {
   "cell_type": "code",
   "execution_count": 3,
   "metadata": {
    "collapsed": false
   },
   "outputs": [
    {
     "data": {
      "text/html": [
       "<div>\n",
       "<table border=\"1\" class=\"dataframe\">\n",
       "  <thead>\n",
       "    <tr style=\"text-align: right;\">\n",
       "      <th></th>\n",
       "      <th>game_id</th>\n",
       "      <th>innings</th>\n",
       "      <th>batting_side</th>\n",
       "      <th>over_number</th>\n",
       "      <th>ball_in_over</th>\n",
       "      <th>inn_runs</th>\n",
       "      <th>inn_wickets</th>\n",
       "      <th>date</th>\n",
       "      <th>match_winner</th>\n",
       "      <th>bat_win</th>\n",
       "      <th>balls_left</th>\n",
       "      <th>pct_balls_left</th>\n",
       "      <th>pct_wickets_left</th>\n",
       "      <th>chase_total</th>\n",
       "      <th>runs_to_chase</th>\n",
       "    </tr>\n",
       "  </thead>\n",
       "  <tbody>\n",
       "    <tr>\n",
       "      <th>0</th>\n",
       "      <td>656441</td>\n",
       "      <td>1st innings</td>\n",
       "      <td>England</td>\n",
       "      <td>0</td>\n",
       "      <td>1</td>\n",
       "      <td>0</td>\n",
       "      <td>0</td>\n",
       "      <td>2015-03-01</td>\n",
       "      <td>Sri Lanka</td>\n",
       "      <td>0</td>\n",
       "      <td>299</td>\n",
       "      <td>0.996667</td>\n",
       "      <td>1</td>\n",
       "      <td>NaN</td>\n",
       "      <td>NaN</td>\n",
       "    </tr>\n",
       "    <tr>\n",
       "      <th>1</th>\n",
       "      <td>656441</td>\n",
       "      <td>1st innings</td>\n",
       "      <td>England</td>\n",
       "      <td>0</td>\n",
       "      <td>2</td>\n",
       "      <td>0</td>\n",
       "      <td>0</td>\n",
       "      <td>2015-03-01</td>\n",
       "      <td>Sri Lanka</td>\n",
       "      <td>0</td>\n",
       "      <td>298</td>\n",
       "      <td>0.993333</td>\n",
       "      <td>1</td>\n",
       "      <td>NaN</td>\n",
       "      <td>NaN</td>\n",
       "    </tr>\n",
       "    <tr>\n",
       "      <th>2</th>\n",
       "      <td>656441</td>\n",
       "      <td>1st innings</td>\n",
       "      <td>England</td>\n",
       "      <td>0</td>\n",
       "      <td>3</td>\n",
       "      <td>1</td>\n",
       "      <td>0</td>\n",
       "      <td>2015-03-01</td>\n",
       "      <td>Sri Lanka</td>\n",
       "      <td>0</td>\n",
       "      <td>297</td>\n",
       "      <td>0.990000</td>\n",
       "      <td>1</td>\n",
       "      <td>NaN</td>\n",
       "      <td>NaN</td>\n",
       "    </tr>\n",
       "    <tr>\n",
       "      <th>3</th>\n",
       "      <td>656441</td>\n",
       "      <td>1st innings</td>\n",
       "      <td>England</td>\n",
       "      <td>0</td>\n",
       "      <td>4</td>\n",
       "      <td>1</td>\n",
       "      <td>0</td>\n",
       "      <td>2015-03-01</td>\n",
       "      <td>Sri Lanka</td>\n",
       "      <td>0</td>\n",
       "      <td>296</td>\n",
       "      <td>0.986667</td>\n",
       "      <td>1</td>\n",
       "      <td>NaN</td>\n",
       "      <td>NaN</td>\n",
       "    </tr>\n",
       "    <tr>\n",
       "      <th>4</th>\n",
       "      <td>656441</td>\n",
       "      <td>1st innings</td>\n",
       "      <td>England</td>\n",
       "      <td>0</td>\n",
       "      <td>5</td>\n",
       "      <td>1</td>\n",
       "      <td>0</td>\n",
       "      <td>2015-03-01</td>\n",
       "      <td>Sri Lanka</td>\n",
       "      <td>0</td>\n",
       "      <td>295</td>\n",
       "      <td>0.983333</td>\n",
       "      <td>1</td>\n",
       "      <td>NaN</td>\n",
       "      <td>NaN</td>\n",
       "    </tr>\n",
       "  </tbody>\n",
       "</table>\n",
       "</div>"
      ],
      "text/plain": [
       "   game_id      innings batting_side  over_number  ball_in_over  inn_runs  \\\n",
       "0   656441  1st innings      England            0             1         0   \n",
       "1   656441  1st innings      England            0             2         0   \n",
       "2   656441  1st innings      England            0             3         1   \n",
       "3   656441  1st innings      England            0             4         1   \n",
       "4   656441  1st innings      England            0             5         1   \n",
       "\n",
       "   inn_wickets        date match_winner  bat_win  balls_left  pct_balls_left  \\\n",
       "0            0  2015-03-01    Sri Lanka        0         299        0.996667   \n",
       "1            0  2015-03-01    Sri Lanka        0         298        0.993333   \n",
       "2            0  2015-03-01    Sri Lanka        0         297        0.990000   \n",
       "3            0  2015-03-01    Sri Lanka        0         296        0.986667   \n",
       "4            0  2015-03-01    Sri Lanka        0         295        0.983333   \n",
       "\n",
       "   pct_wickets_left  chase_total  runs_to_chase  \n",
       "0                 1          NaN            NaN  \n",
       "1                 1          NaN            NaN  \n",
       "2                 1          NaN            NaN  \n",
       "3                 1          NaN            NaN  \n",
       "4                 1          NaN            NaN  "
      ]
     },
     "execution_count": 3,
     "metadata": {},
     "output_type": "execute_result"
    }
   ],
   "source": [
    "all_games.head()"
   ]
  },
  {
   "cell_type": "code",
   "execution_count": 4,
   "metadata": {
    "collapsed": false
   },
   "outputs": [
    {
     "data": {
      "text/plain": [
       "912"
      ]
     },
     "execution_count": 4,
     "metadata": {},
     "output_type": "execute_result"
    }
   ],
   "source": [
    "len(all_games.game_id.unique())"
   ]
  },
  {
   "cell_type": "code",
   "execution_count": 5,
   "metadata": {
    "collapsed": false
   },
   "outputs": [
    {
     "data": {
      "text/plain": [
       "innings      over_number\n",
       "1st innings  0                2.061602\n",
       "             1                5.979444\n",
       "             2               10.125022\n",
       "             3               14.428067\n",
       "             4               19.013156\n",
       "             5               23.707261\n",
       "             6               28.445706\n",
       "             7               33.180439\n",
       "             8               37.992328\n",
       "             9               42.781951\n",
       "             10              47.488244\n",
       "             11              52.083880\n",
       "             12              56.542597\n",
       "             13              60.876786\n",
       "             14              65.376742\n",
       "             15              69.873101\n",
       "             16              74.087276\n",
       "             17              78.492819\n",
       "             18              82.842407\n",
       "             19              87.347514\n",
       "             20              91.760756\n",
       "             21              96.176959\n",
       "             22             100.616290\n",
       "             23             105.099800\n",
       "             24             109.803249\n",
       "             25             114.554374\n",
       "             26             119.248715\n",
       "             27             123.908540\n",
       "             28             128.768172\n",
       "             29             133.544952\n",
       "                               ...    \n",
       "2nd innings  20              97.724022\n",
       "             21             102.413916\n",
       "             22             106.956300\n",
       "             23             111.576967\n",
       "             24             116.011238\n",
       "             25             120.781122\n",
       "             26             125.437143\n",
       "             27             130.360032\n",
       "             28             135.048583\n",
       "             29             140.104459\n",
       "             30             145.289137\n",
       "             31             150.245263\n",
       "             32             155.427108\n",
       "             33             160.558225\n",
       "             34             165.582644\n",
       "             35             170.868263\n",
       "             36             176.262218\n",
       "             37             181.960886\n",
       "             38             187.128975\n",
       "             39             192.898990\n",
       "             40             199.105499\n",
       "             41             205.319633\n",
       "             42             211.319572\n",
       "             43             217.061944\n",
       "             44             223.104235\n",
       "             45             229.352199\n",
       "             46             236.171348\n",
       "             47             243.621160\n",
       "             48             251.253956\n",
       "             49             259.454942\n",
       "Name: inn_runs, dtype: float64"
      ]
     },
     "execution_count": 5,
     "metadata": {},
     "output_type": "execute_result"
    }
   ],
   "source": [
    "all_games.groupby(['innings','over_number']).inn_runs.mean()"
   ]
  },
  {
   "cell_type": "code",
   "execution_count": 6,
   "metadata": {
    "collapsed": false
   },
   "outputs": [
    {
     "data": {
      "text/plain": [
       "over_number\n",
       "0       2.189816\n",
       "1       6.323471\n",
       "2      10.764883\n",
       "3      15.404278\n",
       "4      20.309735\n",
       "5      25.354069\n",
       "6      30.270869\n",
       "7      35.233128\n",
       "8      40.102956\n",
       "9      45.021136\n",
       "10     49.768153\n",
       "11     54.377706\n",
       "12     58.963796\n",
       "13     63.376121\n",
       "14     67.984440\n",
       "15     72.436161\n",
       "16     76.886054\n",
       "17     81.367692\n",
       "18     85.706943\n",
       "19     90.144184\n",
       "20     94.691899\n",
       "21     99.236339\n",
       "22    103.716215\n",
       "23    108.255513\n",
       "24    112.814474\n",
       "25    117.568780\n",
       "26    122.235685\n",
       "27    127.002963\n",
       "28    131.754813\n",
       "29    136.660702\n",
       "30    141.698995\n",
       "31    146.648454\n",
       "32    151.638311\n",
       "33    156.674831\n",
       "34    161.698532\n",
       "35    166.878791\n",
       "36    172.484935\n",
       "37    178.343474\n",
       "38    184.028027\n",
       "39    190.095823\n",
       "40    196.422530\n",
       "41    202.581875\n",
       "42    208.927038\n",
       "43    215.560830\n",
       "44    222.559264\n",
       "45    229.896203\n",
       "46    238.405112\n",
       "47    247.843775\n",
       "48    258.530814\n",
       "49    271.516600\n",
       "Name: inn_runs, dtype: float64"
      ]
     },
     "execution_count": 6,
     "metadata": {},
     "output_type": "execute_result"
    }
   ],
   "source": [
    "all_games.groupby('over_number').inn_runs.mean()"
   ]
  },
  {
   "cell_type": "code",
   "execution_count": 7,
   "metadata": {
    "collapsed": false
   },
   "outputs": [
    {
     "data": {
      "text/plain": [
       "<matplotlib.axes._subplots.AxesSubplot at 0x7f59282b61d0>"
      ]
     },
     "execution_count": 7,
     "metadata": {},
     "output_type": "execute_result"
    },
    {
     "data": {
      "image/png": "[encoded data removed]",
      "text/plain": [
       "<matplotlib.figure.Figure at 0x7f5908a51750>"
      ]
     },
     "metadata": {},
     "output_type": "display_data"
    }
   ],
   "source": [
    "plt.figure(figsize = (16, 8))\n",
    "all_games.groupby(['innings','over_number']).inn_runs.mean().plot()"
   ]
  },
  {
   "cell_type": "code",
   "execution_count": null,
   "metadata": {
    "collapsed": true
   },
   "outputs": [],
   "source": []
  }
 ],
 "metadata": {
  "kernelspec": {
   "display_name": "Python 2",
   "language": "python",
   "name": "python2"
  },
  "language_info": {
   "codemirror_mode": {
    "name": "ipython",
    "version": 2
   },
   "file_extension": ".py",
   "mimetype": "text/x-python",
   "name": "python",
   "nbconvert_exporter": "python",
   "pygments_lexer": "ipython2",
   "version": "2.7.9"
  }
 },
 "nbformat": 4,
 "nbformat_minor": 0
}
